{
 "cells": [
  {
   "cell_type": "markdown",
   "metadata": {},
   "source": [
    "# Max-P Regionalization for Multiple Components\n",
    "\n",
    "**Authors:** **[Sergio Rey](https://github.com/sjsrey)**\n",
    "\n",
    "\n",
    "The `max-p` problem involves the clustering of a set of geographic areas into the maximum number of homogeneous regions such that the value of a spatially extensive regional attribute is above a predefined threshold value. The spatially extensive attribute can be specified to ensure that each region contains sufficient population size, or a minimum number of enumeration units. The number of regions $p$ is endogenous to the problem and is useful for regionalization problems where the analyst does not require a fixed number of regions a-priori.\n",
    "\n",
    "Originally formulated as a mixed-integer problem in [Duque, Anselin, Rey (2012)](https://onlinelibrary.wiley.com/doi/abs/10.1111/j.1467-9787.2011.00743.x), `max-p` is an [NP-hard problem](https://en.wikipedia.org/wiki/NP-hardness) and exact solutions are only feasible for small problem sizes. As such, a number of heuristic solution approaches have been suggested. PySAL implements the heuristic approach described in\n",
    "[Wei, Rey, and Knaap (2020)](https://www.tandfonline.com/doi/full/10.1080/13658816.2020.1759806).\n",
    "\n",
    "One issue with the current version of maxp is when it is applied to a collection of areas that have multiple connected components *and* some of the components do not allow for feasible region building.\n",
    "\n",
    "In this notebook we outline a number of alternatives to use when encountering infeasible components."
   ]
  },
  {
   "cell_type": "code",
   "execution_count": null,
   "metadata": {
    "ExecuteTime": {
     "end_time": "2021-07-17T16:19:17.579759Z",
     "start_time": "2021-07-17T16:19:17.543525Z"
    }
   },
   "outputs": [],
   "source": [
    "%load_ext watermark\n",
    "%watermark"
   ]
  },
  {
   "cell_type": "code",
   "execution_count": null,
   "metadata": {
    "ExecuteTime": {
     "end_time": "2021-07-17T16:19:19.088679Z",
     "start_time": "2021-07-17T16:19:17.582845Z"
    }
   },
   "outputs": [],
   "source": [
    "from spopt.region import MaxPHeuristic as MaxP\n",
    "import matplotlib.pyplot as plt\n",
    "\n",
    "import geopandas\n",
    "import libpysal\n",
    "import matplotlib\n",
    "import numpy\n",
    "import spopt\n",
    "import warnings\n",
    "from scipy.spatial import KDTree\n",
    "\n",
    "plt.rcParams[\"figure.figsize\"] = [12, 8]\n",
    "warnings.filterwarnings(\"ignore\")\n",
    "\n",
    "RANDOM_SEED = 123456\n",
    "\n",
    "%config InlineBackend.figure_format = \"retina\"\n",
    "%watermark -w\n",
    "%watermark -iv"
   ]
  },
  {
   "cell_type": "code",
   "execution_count": null,
   "metadata": {},
   "outputs": [],
   "source": [
    "from shapely.geometry import Polygon, box"
   ]
  },
  {
   "cell_type": "code",
   "execution_count": null,
   "metadata": {},
   "outputs": [],
   "source": [
    "n_cols = 5\n",
    "n_rows = 10\n",
    "b = 0\n",
    "h = w = 10\n",
    "component_0 = [box(l*w, b, l*w+w, b+h) for l in range(n_cols)] \n",
    "b = b + h*2\n",
    "component_1 = [box(l*w, b + h * r, l * w + w, b +  h+ h * r) for r in range(n_rows) for l in range(n_cols) ] \n",
    "geometries = component_0 + component_1"
   ]
  },
  {
   "cell_type": "code",
   "execution_count": null,
   "metadata": {},
   "outputs": [],
   "source": [
    "len(geometries)"
   ]
  },
  {
   "cell_type": "code",
   "execution_count": null,
   "metadata": {},
   "outputs": [],
   "source": [
    "gdf = geopandas.GeoDataFrame(geometry=geometries, \n",
    "                             data = numpy.ones((n_cols*n_rows+n_cols,1), int),\n",
    "                             columns=['var']\n",
    "                            )\n",
    "gdf.plot(edgecolor='black'), "
   ]
  },
  {
   "cell_type": "code",
   "execution_count": null,
   "metadata": {},
   "outputs": [],
   "source": [
    "gdf.head()"
   ]
  },
  {
   "cell_type": "code",
   "execution_count": null,
   "metadata": {},
   "outputs": [],
   "source": [
    "w = libpysal.weights.Queen.from_dataframe(gdf)"
   ]
  },
  {
   "cell_type": "code",
   "execution_count": null,
   "metadata": {},
   "outputs": [],
   "source": [
    "w.component_labels"
   ]
  },
  {
   "cell_type": "markdown",
   "metadata": {},
   "source": [
    "So we have two components, one with 5 areas in the south and a larger northern component with 50 areas."
   ]
  },
  {
   "cell_type": "code",
   "execution_count": null,
   "metadata": {},
   "outputs": [],
   "source": [
    "import numpy \n",
    "numpy.unique(w.component_labels)\n",
    "rng = numpy.random.default_rng(2021) # set seed for random numbers\n"
   ]
  },
  {
   "cell_type": "markdown",
   "metadata": {},
   "source": [
    "We first attempt to solve where the threshold=5. The small southern component is feasible in this case so we should get a solution:"
   ]
  },
  {
   "cell_type": "code",
   "execution_count": null,
   "metadata": {},
   "outputs": [],
   "source": [
    "model = MaxP(gdf, w, 'var', 'var', 5, 2, policy='keep')\n",
    "model.solve()\n",
    "gdf['region'] = model.labels_\n",
    "gdf.explore(column='region', categorical=True)"
   ]
  },
  {
   "cell_type": "markdown",
   "metadata": {},
   "source": [
    "Next we increase the threshold beyond the level of feasibility for this small component:"
   ]
  },
  {
   "cell_type": "code",
   "execution_count": null,
   "metadata": {},
   "outputs": [],
   "source": [
    "try:\n",
    "    model = MaxP(gdf, w, 'var', 'var', 6, 2, policy='keep')\n",
    "    model.solve() \n",
    "except:\n",
    "    print('No feasible solution!')\n"
   ]
  },
  {
   "cell_type": "markdown",
   "metadata": {},
   "source": [
    "## Solution: `attach`\n",
    "We can handle the small component by attaching each area in the infeasible component with its nearest neighbor area belonging to a feasible component. This is done with setting using the `attach` policy."
   ]
  },
  {
   "cell_type": "code",
   "execution_count": null,
   "metadata": {
    "tags": []
   },
   "outputs": [],
   "source": [
    "model = MaxP(gdf, w, 'var', 'var', 6, 2, policy='attach')\n",
    "model.solve() \n",
    "gdf['region'] = model.labels_\n",
    "gdf.explore(column='region', categorical=True)"
   ]
  },
  {
   "cell_type": "markdown",
   "metadata": {},
   "source": [
    "## Solution: `drop`"
   ]
  },
  {
   "cell_type": "code",
   "execution_count": null,
   "metadata": {},
   "outputs": [],
   "source": [
    "from spopt.region.maxp import infeasible_components\n",
    "gdf = geopandas.GeoDataFrame(geometry=geometries, \n",
    "                             data = numpy.ones((n_cols*n_rows+n_cols,1), int),\n",
    "                             columns=['var']\n",
    "                            )\n",
    "gdf.plot(edgecolor='black'), "
   ]
  },
  {
   "cell_type": "code",
   "execution_count": null,
   "metadata": {
    "tags": []
   },
   "outputs": [],
   "source": [
    "import numpy as np\n",
    "model = MaxP(gdf, w, 'var', 'var', 6, 2, policy='drop')\n",
    "model.solve() \n",
    "ifcs = infeasible_components(gdf, w, 'var', 6)\n",
    "keep_ids = np.where(~np.isin(w.component_labels, ifcs))[0]\n",
    "gdf['region'] = -1\n",
    "gdf.region.iloc[keep_ids] = model.labels_\n",
    "gdf.explore(column='region', categorical=True) # areas in region -1 are dropped"
   ]
  },
  {
   "cell_type": "markdown",
   "metadata": {},
   "source": [
    "## No Feasible Components\n",
    "We also handle the case when none of the components are feasible by rasing an exception."
   ]
  },
  {
   "cell_type": "code",
   "execution_count": null,
   "metadata": {},
   "outputs": [],
   "source": [
    "model = MaxP(gdf, w, 'var', 'var', 55, 2, policy='drop')\n",
    "try:\n",
    "    model.solve()\n",
    "except Exception as e:\n",
    "    print(e)"
   ]
  },
  {
   "cell_type": "code",
   "execution_count": null,
   "metadata": {},
   "outputs": [],
   "source": []
  }
 ],
 "metadata": {
  "kernelspec": {
   "display_name": "Python 3 (ipykernel)",
   "language": "python",
   "name": "python3"
  },
  "language_info": {
   "codemirror_mode": {
    "name": "ipython",
    "version": 3
   },
   "file_extension": ".py",
   "mimetype": "text/x-python",
   "name": "python",
   "nbconvert_exporter": "python",
   "pygments_lexer": "ipython3",
   "version": "3.9.10"
  }
 },
 "nbformat": 4,
 "nbformat_minor": 4
}
