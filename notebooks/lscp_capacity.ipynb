{
 "cells": [
  {
   "cell_type": "markdown",
   "metadata": {
    "jupyter": {
     "outputs_hidden": true
    }
   },
   "source": [
    "# Capacitated Location Set Covering Problem (System Optimal) (CLSCP-SO)\n",
    "\n",
    "*Authors:* [Erin Olson](https://github.com/erinrolson), [Germano Barcelos](https://github.com/gegen07), [James Gaboardi](https://github.com/jGaboardi), [Levi J. Wolf](https://github.com/ljwolf), [Qunshan Zhao](https://github.com/qszhao)\n",
    "\n",
    "Capacitated Location Set Covering (System Optimal) builds off of the [LSCP](https://pysal.org/spopt/notebooks/lscp.html), but allows for the assignment of a facility's capacity and the amount of demand at a demand point to be used in the siting of facilities. CLSCP can be described as follows:\n",
    "\n",
    "_Locate just enough facilities and associated capacity such that all demand is served within the capacity limits of each facility, given the coverage capabilities of each facility._ Church L., Murray, A. (2018)\n",
    "\n",
    "**CLSCP-SO can be written as:**\n",
    "\n",
    "\\begin{equation*}\n",
    "\\textbf{Minimize }\\sum_{j \\in J}  x_j\n",
    "\\end{equation*}\n",
    "\n",
    "_Subject to:_\n",
    "\\begin{equation*}\n",
    "\\sum_{j\\in N_i} z_{ij} = 1 \\quad \\forall i \\in I\n",
    "\\end{equation*}\n",
    "\n",
    "\\begin{equation*}\n",
    "\\sum_{i\\in I} a_i z_{ij} \\leq C_jx_j \\quad \\forall j \\in J\n",
    "\\end{equation*}\n",
    "\n",
    "\\begin{equation*}\n",
    "x_j \\in \\{0,1\\} \\quad \\forall j \\in J\n",
    "\\end{equation*}\n",
    "\n",
    "\\begin{equation*}\n",
    "z_{ij} \\geq 0 \\quad \\forall i \\in I, j \\in N_i\n",
    "\\end{equation*}\n",
    "\n",
    "_Where:_\n",
    "\n",
    "\\begin{array}{lclll}\n",
    "& & i & \\small = & \\textrm{index of demand points/areas/objects (entire set denoted} \\quad I \\textrm{ )}\\\\\n",
    "& & j & \\small = & \\textrm{index of potential facility sites (entire set denoted} \\quad J \\textrm{ )} \\\\\n",
    "& & S & \\small = & \\textrm{desired maximal service standard (travel distance or time)} \\\\\n",
    "& & d_{ij} & \\small = & \\textrm{shortest distance or travel time between demand} \\quad i \\quad \\textrm{and potential facility} \\quad j \\\\\n",
    "& & N_i & \\small = & \\{j | d_{ij} \\leq S\\} \\\\\n",
    "& & \\Psi_j & \\small = & \\{i | d_{ij} \\leq S\\} \\\\\n",
    "& & p & \\small = & \\textrm{number of facilities to be located} \\\\\n",
    "& & a_i & \\small = & \\textrm{amount of demand at} \\quad i \\\\\n",
    "& & C_j & \\small = & \\textrm{capacity of potential facility} \\quad j \\\\\n",
    "& & Z_{ij} & \\small = & \\textrm{fraction of demand} \\quad i \\quad \\textrm{that is assigned to facility} \\quad j \\\\\n",
    "& & x_j & \\small = & \\begin{cases} \n",
    "          1, \\quad \\text{if a facility is located at} \\quad j\\\\\n",
    "          0, \\quad \\text{otherwise} \\\\\n",
    "       \\end{cases} \\end{array}\n",
    "       \n",
    "_The excerpt above was quoted from Church L., Murray, A. (2018)_\n",
    "\n",
    "This tutorial solves CLSCP-SO using `spopt.locate.coverage.LSCP` instance that depends on a array 2D representing the costs between facilities candidate sites and demand points. For that it uses a lattice 10x10 with simulated points to calculate the costs. A numpy array representing facility capacities as well as demand quantities is also required."
   ]
  },
  {
   "cell_type": "code",
   "execution_count": 163,
   "metadata": {},
   "outputs": [],
   "source": [
    "from spopt.locate.coverage import LSCP\n",
    "from spopt.locate.util import simulated_geo_points\n",
    "\n",
    "import numpy\n",
    "import geopandas\n",
    "import pulp\n",
    "import spaghetti\n",
    "from shapely.geometry import Point\n",
    "import matplotlib.pyplot as plt"
   ]
  },
  {
   "cell_type": "markdown",
   "metadata": {},
   "source": [
    "Since the model needs a distance cost matrix we should define some variables. In the comments, it's defined what these variables are for but solver. The solver, assigned below as `pulp.PULP_CBC_CMD`, is an interface to optimization solver developed by [COIN-OR](https://github.com/coin-or/Cbc). If you want to use another optimization interface as Gurobi or CPLEX see this [guide](https://coin-or.github.io/pulp/guides/how_to_configure_solvers.html) that explains how to achieve this."
   ]
  },
  {
   "cell_type": "code",
   "execution_count": 164,
   "metadata": {},
   "outputs": [],
   "source": [
    "CLIENT_COUNT = 5 # quantity demand points\n",
    "FACILITY_COUNT = 2 # quantity supply points\n",
    "\n",
    "SERVICE_RADIUS = 8 # maximum service radius in meters\n",
    "\n",
    "# Random seeds for reproducibility\n",
    "CLIENT_SEED = 5 \n",
    "FACILITY_SEED = 6 \n",
    "\n",
    "solver = pulp.PULP_CBC_CMD(msg=False, warmStart=True)"
   ]
  },
  {
   "cell_type": "markdown",
   "metadata": {},
   "source": [
    "## Lattice 10x10"
   ]
  },
  {
   "cell_type": "markdown",
   "metadata": {},
   "source": [
    "Create lattice 10x10 with 9 vertical lines in interior."
   ]
  },
  {
   "cell_type": "code",
   "execution_count": 165,
   "metadata": {},
   "outputs": [],
   "source": [
    "lattice = spaghetti.regular_lattice((0, 0, 10, 10), 9, exterior=True)\n",
    "ntw = spaghetti.Network(in_data=lattice)"
   ]
  },
  {
   "cell_type": "markdown",
   "metadata": {},
   "source": [
    "Transform spaghetti instance into geodataframe."
   ]
  },
  {
   "cell_type": "code",
   "execution_count": 166,
   "metadata": {},
   "outputs": [],
   "source": [
    "street = spaghetti.element_as_gdf(ntw, arcs=True)\n",
    "\n",
    "street_buffered = geopandas.GeoDataFrame(\n",
    "    geopandas.GeoSeries(street[\"geometry\"].buffer(0.2).unary_union),\n",
    "    crs=street.crs,\n",
    "    columns=[\"geometry\"],\n",
    ")"
   ]
  },
  {
   "cell_type": "markdown",
   "metadata": {},
   "source": [
    "Plotting the network created by spaghetti we can verify that it seems a district with quarters and streets."
   ]
  },
  {
   "cell_type": "code",
   "execution_count": 167,
   "metadata": {},
   "outputs": [
    {
     "data": {
      "text/plain": [
       "<matplotlib.axes._subplots.AxesSubplot at 0x7f95a84bd190>"
      ]
     },
     "execution_count": 167,
     "metadata": {},
     "output_type": "execute_result"
    },
    {
     "data": {
      "image/png": "[encoded data removed]",
      "text/plain": [
       "<Figure size 432x288 with 1 Axes>"
      ]
     },
     "metadata": {
      "needs_background": "light"
     },
     "output_type": "display_data"
    }
   ],
   "source": [
    "street.plot()"
   ]
  },
  {
   "cell_type": "markdown",
   "metadata": {},
   "source": [
    "## Simulate points in a network\n",
    "\n",
    "The function `simulated_geo_points` simulates points inside a network. In this case, it uses a lattice network 10x10 created by using spaghetti package. \n",
    "Below we use the function defined above and simulate the points inside lattice bounds."
   ]
  },
  {
   "cell_type": "code",
   "execution_count": 168,
   "metadata": {},
   "outputs": [],
   "source": [
    "client_points = simulated_geo_points(street_buffered, needed=CLIENT_COUNT, seed=CLIENT_SEED)\n",
    "facility_points = simulated_geo_points(\n",
    "    street_buffered, needed=FACILITY_COUNT, seed=FACILITY_SEED\n",
    ")"
   ]
  },
  {
   "cell_type": "markdown",
   "metadata": {},
   "source": [
    "Plotting the 5 client and 2 facility points we can see that the function generates dummy points to an area of 10x10 which is the area created by our lattice created on previous cells."
   ]
  },
  {
   "cell_type": "code",
   "execution_count": 169,
   "metadata": {},
   "outputs": [
    {
     "data": {
      "text/plain": [
       "<matplotlib.legend.Legend at 0x7f95a8a9ef70>"
      ]
     },
     "execution_count": 169,
     "metadata": {},
     "output_type": "execute_result"
    },
    {
     "data": {
      "image/png": "[encoded data removed]",
      "text/plain": [
       "<Figure size 432x432 with 1 Axes>"
      ]
     },
     "metadata": {
      "needs_background": "light"
     },
     "output_type": "display_data"
    }
   ],
   "source": [
    "fig, ax = plt.subplots(figsize=(6, 6))\n",
    "street.plot(ax=ax, alpha=0.8, zorder=1, label='streets')\n",
    "facility_points.plot(ax=ax, color='red', zorder=2, label='facility candidate sites ($n$=2)')\n",
    "client_points.plot(ax=ax, color='black', label='clients points ($n$=5)')\n",
    "plt.legend(loc='upper left', bbox_to_anchor=(1.05, 1))"
   ]
  },
  {
   "cell_type": "markdown",
   "metadata": {},
   "source": [
    "## Transform simulated points to real points"
   ]
  },
  {
   "cell_type": "markdown",
   "metadata": {},
   "source": [
    "To use cost matrix or geodataframes we have to pay attention in some details. The client and facility points simulated don't belong to network, so if we calculate the distances now we are supposed to receive a wrong result. Before calculating distances we snap points to the networok and then calculate the distances."
   ]
  },
  {
   "cell_type": "markdown",
   "metadata": {},
   "source": [
    "Below we snap points that is not spatially belong to network and create new real points geodataframes"
   ]
  },
  {
   "cell_type": "code",
   "execution_count": 170,
   "metadata": {},
   "outputs": [],
   "source": [
    "ntw.snapobservations(client_points, \"clients\", attribute=True)\n",
    "clients_snapped = spaghetti.element_as_gdf(\n",
    "    ntw, pp_name=\"clients\", snapped=True\n",
    ")\n",
    "\n",
    "ntw.snapobservations(facility_points, \"facilities\", attribute=True)\n",
    "facilities_snapped = spaghetti.element_as_gdf(\n",
    "    ntw, pp_name=\"facilities\", snapped=True\n",
    ")\n"
   ]
  },
  {
   "cell_type": "markdown",
   "metadata": {},
   "source": [
    "Now the plot seems more organized as the points belong to network. \n",
    "The network created is plotted below with facility points and clients points:"
   ]
  },
  {
   "cell_type": "code",
   "execution_count": 171,
   "metadata": {},
   "outputs": [
    {
     "data": {
      "text/plain": [
       "<matplotlib.legend.Legend at 0x7f95a8b4c2b0>"
      ]
     },
     "execution_count": 171,
     "metadata": {},
     "output_type": "execute_result"
    },
    {
     "data": {
      "image/png": "[encoded data removed]",
      "text/plain": [
       "<Figure size 432x432 with 1 Axes>"
      ]
     },
     "metadata": {
      "needs_background": "light"
     },
     "output_type": "display_data"
    }
   ],
   "source": [
    "fig, ax = plt.subplots(figsize=(6, 6))\n",
    "street.plot(ax=ax, alpha=0.8, zorder=1, label='streets')\n",
    "facilities_snapped.plot(ax=ax, color='red', zorder=2, label='facility candidate sites ($n$=2)')\n",
    "clients_snapped.plot(ax=ax, color='black', label='clients points ($n$=5)')\n",
    "plt.legend(loc='upper left', bbox_to_anchor=(1.05, 1))"
   ]
  },
  {
   "cell_type": "markdown",
   "metadata": {},
   "source": [
    "## Calculating the cost matrix "
   ]
  },
  {
   "cell_type": "markdown",
   "metadata": {},
   "source": [
    "Calculate distance between clients and facilities."
   ]
  },
  {
   "cell_type": "code",
   "execution_count": 172,
   "metadata": {},
   "outputs": [],
   "source": [
    "cost_matrix = ntw.allneighbordistances(\n",
    "    sourcepattern=ntw.pointpatterns[\"clients\"],\n",
    "    destpattern=ntw.pointpatterns[\"facilities\"],\n",
    ")"
   ]
  },
  {
   "cell_type": "markdown",
   "metadata": {},
   "source": [
    "The expected result here is a Dijkstra distance between clients and facilities points, so we our case an array 2D 5x2."
   ]
  },
  {
   "cell_type": "code",
   "execution_count": 173,
   "metadata": {},
   "outputs": [
    {
     "data": {
      "text/plain": [
       "array([[12.60302601,  3.93598651],\n",
       "       [13.10096347,  4.43392397],\n",
       "       [ 6.9095462 ,  4.2425067 ],\n",
       "       [ 2.98196832,  7.84581224],\n",
       "       [ 7.5002892 ,  6.32806975]])"
      ]
     },
     "execution_count": 173,
     "metadata": {},
     "output_type": "execute_result"
    }
   ],
   "source": [
    "cost_matrix"
   ]
  },
  {
   "cell_type": "markdown",
   "metadata": {},
   "source": [
    "By manipulating the facility capacity array we can demonstrate how capacity is accounted for and generates different results."
   ]
  },
  {
   "cell_type": "code",
   "execution_count": 174,
   "metadata": {},
   "outputs": [
    {
     "data": {
      "text/plain": [
       "(array([ 5, 15]), array([15,  5]), array([8, 8]))"
      ]
     },
     "execution_count": 174,
     "metadata": {},
     "output_type": "execute_result"
    }
   ],
   "source": [
    "facility_capacity = numpy.array([5, 15])\n",
    "facility_capacity_switched = numpy.array([15, 5])\n",
    "facility_capacity_even = numpy.array([8, 8])\n",
    "facility_capacity, facility_capacity_switched, facility_capacity_even"
   ]
  },
  {
   "cell_type": "markdown",
   "metadata": {},
   "source": [
    "The sum of demand quantity is 15."
   ]
  },
  {
   "cell_type": "code",
   "execution_count": 175,
   "metadata": {},
   "outputs": [
    {
     "data": {
      "text/plain": [
       "array([1, 2, 3, 4, 5])"
      ]
     },
     "execution_count": 175,
     "metadata": {},
     "output_type": "execute_result"
    }
   ],
   "source": [
    "demand_quantity = numpy.arange(1, 6)\n",
    "demand_quantity"
   ]
  },
  {
   "cell_type": "markdown",
   "metadata": {},
   "source": [
    "With ``LSCP.from_cost_matrix`` we model CLSC problem to cover all demand points with $p$ facility points within `max_coverage` meters as service radius using cost matrix calculated previously."
   ]
  },
  {
   "cell_type": "code",
   "execution_count": 176,
   "metadata": {},
   "outputs": [],
   "source": [
    "lscp_from_cost_matrix = LSCP.from_cost_matrix(\n",
    "    cost_matrix, SERVICE_RADIUS, facility_capacity_arr=facility_capacity, demand_quantity_arr=demand_quantity)\n",
    "lscp_from_cost_matrix = lscp_from_cost_matrix.solve(solver)"
   ]
  },
  {
   "cell_type": "code",
   "execution_count": 177,
   "metadata": {},
   "outputs": [],
   "source": [
    "lscp_from_cost_matrix_switched = LSCP.from_cost_matrix(\n",
    "    cost_matrix, SERVICE_RADIUS, facility_capacity_arr=facility_capacity_switched, demand_quantity_arr=demand_quantity)\n",
    "lscp_from_cost_matrix_switched = lscp_from_cost_matrix_switched.solve(solver)"
   ]
  },
  {
   "cell_type": "code",
   "execution_count": 178,
   "metadata": {},
   "outputs": [],
   "source": [
    "lscp_from_cost_matrix_even = LSCP.from_cost_matrix(\n",
    "    cost_matrix, SERVICE_RADIUS, facility_capacity_arr=facility_capacity_even, demand_quantity_arr=demand_quantity)\n",
    "lscp_from_cost_matrix_even = lscp_from_cost_matrix_even.solve(solver)"
   ]
  },
  {
   "cell_type": "markdown",
   "metadata": {},
   "source": [
    "## Using GeoDataFrame"
   ]
  },
  {
   "cell_type": "markdown",
   "metadata": {},
   "source": [
    "Assigning predefined location using a geodataframe column"
   ]
  },
  {
   "cell_type": "code",
   "execution_count": 179,
   "metadata": {},
   "outputs": [
    {
     "data": {
      "text/html": [
       "<div>\n",
       "<style scoped>\n",
       "    .dataframe tbody tr th:only-of-type {\n",
       "        vertical-align: middle;\n",
       "    }\n",
       "\n",
       "    .dataframe tbody tr th {\n",
       "        vertical-align: top;\n",
       "    }\n",
       "\n",
       "    .dataframe thead th {\n",
       "        text-align: right;\n",
       "    }\n",
       "</style>\n",
       "<table border=\"1\" class=\"dataframe\">\n",
       "  <thead>\n",
       "    <tr style=\"text-align: right;\">\n",
       "      <th></th>\n",
       "      <th>id</th>\n",
       "      <th>geometry</th>\n",
       "      <th>comp_label</th>\n",
       "      <th>predefined_loc</th>\n",
       "    </tr>\n",
       "  </thead>\n",
       "  <tbody>\n",
       "    <tr>\n",
       "      <th>0</th>\n",
       "      <td>0</td>\n",
       "      <td>POINT (9.00000 3.25259)</td>\n",
       "      <td>0</td>\n",
       "      <td>0</td>\n",
       "    </tr>\n",
       "    <tr>\n",
       "      <th>1</th>\n",
       "      <td>1</td>\n",
       "      <td>POINT (0.91963 6.00000)</td>\n",
       "      <td>0</td>\n",
       "      <td>1</td>\n",
       "    </tr>\n",
       "  </tbody>\n",
       "</table>\n",
       "</div>"
      ],
      "text/plain": [
       "   id                 geometry  comp_label  predefined_loc\n",
       "0   0  POINT (9.00000 3.25259)           0               0\n",
       "1   1  POINT (0.91963 6.00000)           0               1"
      ]
     },
     "execution_count": 179,
     "metadata": {},
     "output_type": "execute_result"
    }
   ],
   "source": [
    "facilities_snapped['predefined_loc'] = numpy.array([0, 1])\n",
    "facilities_snapped"
   ]
  },
  {
   "cell_type": "code",
   "execution_count": 180,
   "metadata": {},
   "outputs": [
    {
     "data": {
      "text/html": [
       "<div>\n",
       "<style scoped>\n",
       "    .dataframe tbody tr th:only-of-type {\n",
       "        vertical-align: middle;\n",
       "    }\n",
       "\n",
       "    .dataframe tbody tr th {\n",
       "        vertical-align: top;\n",
       "    }\n",
       "\n",
       "    .dataframe thead th {\n",
       "        text-align: right;\n",
       "    }\n",
       "</style>\n",
       "<table border=\"1\" class=\"dataframe\">\n",
       "  <thead>\n",
       "    <tr style=\"text-align: right;\">\n",
       "      <th></th>\n",
       "      <th>id</th>\n",
       "      <th>geometry</th>\n",
       "      <th>comp_label</th>\n",
       "      <th>predefined_loc</th>\n",
       "      <th>capacity</th>\n",
       "    </tr>\n",
       "  </thead>\n",
       "  <tbody>\n",
       "    <tr>\n",
       "      <th>0</th>\n",
       "      <td>0</td>\n",
       "      <td>POINT (9.00000 3.25259)</td>\n",
       "      <td>0</td>\n",
       "      <td>0</td>\n",
       "      <td>10</td>\n",
       "    </tr>\n",
       "    <tr>\n",
       "      <th>1</th>\n",
       "      <td>1</td>\n",
       "      <td>POINT (0.91963 6.00000)</td>\n",
       "      <td>0</td>\n",
       "      <td>1</td>\n",
       "      <td>10</td>\n",
       "    </tr>\n",
       "  </tbody>\n",
       "</table>\n",
       "</div>"
      ],
      "text/plain": [
       "   id                 geometry  comp_label  predefined_loc  capacity\n",
       "0   0  POINT (9.00000 3.25259)           0               0        10\n",
       "1   1  POINT (0.91963 6.00000)           0               1        10"
      ]
     },
     "execution_count": 180,
     "metadata": {},
     "output_type": "execute_result"
    }
   ],
   "source": [
    "facilities_snapped['capacity'] = numpy.array([10, 10])\n",
    "facilities_snapped"
   ]
  },
  {
   "cell_type": "code",
   "execution_count": 181,
   "metadata": {},
   "outputs": [
    {
     "data": {
      "text/html": [
       "<div>\n",
       "<style scoped>\n",
       "    .dataframe tbody tr th:only-of-type {\n",
       "        vertical-align: middle;\n",
       "    }\n",
       "\n",
       "    .dataframe tbody tr th {\n",
       "        vertical-align: top;\n",
       "    }\n",
       "\n",
       "    .dataframe thead th {\n",
       "        text-align: right;\n",
       "    }\n",
       "</style>\n",
       "<table border=\"1\" class=\"dataframe\">\n",
       "  <thead>\n",
       "    <tr style=\"text-align: right;\">\n",
       "      <th></th>\n",
       "      <th>id</th>\n",
       "      <th>geometry</th>\n",
       "      <th>comp_label</th>\n",
       "      <th>dem_quantity</th>\n",
       "    </tr>\n",
       "  </thead>\n",
       "  <tbody>\n",
       "    <tr>\n",
       "      <th>0</th>\n",
       "      <td>0</td>\n",
       "      <td>POINT (2.00000 8.85562)</td>\n",
       "      <td>0</td>\n",
       "      <td>1</td>\n",
       "    </tr>\n",
       "    <tr>\n",
       "      <th>1</th>\n",
       "      <td>1</td>\n",
       "      <td>POINT (2.00000 9.35355)</td>\n",
       "      <td>0</td>\n",
       "      <td>1</td>\n",
       "    </tr>\n",
       "    <tr>\n",
       "      <th>2</th>\n",
       "      <td>2</td>\n",
       "      <td>POINT (5.00000 6.16214)</td>\n",
       "      <td>0</td>\n",
       "      <td>1</td>\n",
       "    </tr>\n",
       "    <tr>\n",
       "      <th>3</th>\n",
       "      <td>3</td>\n",
       "      <td>POINT (7.76544 5.00000)</td>\n",
       "      <td>0</td>\n",
       "      <td>1</td>\n",
       "    </tr>\n",
       "    <tr>\n",
       "      <th>4</th>\n",
       "      <td>4</td>\n",
       "      <td>POINT (3.00000 1.75230)</td>\n",
       "      <td>0</td>\n",
       "      <td>1</td>\n",
       "    </tr>\n",
       "  </tbody>\n",
       "</table>\n",
       "</div>"
      ],
      "text/plain": [
       "   id                 geometry  comp_label  dem_quantity\n",
       "0   0  POINT (2.00000 8.85562)           0             1\n",
       "1   1  POINT (2.00000 9.35355)           0             1\n",
       "2   2  POINT (5.00000 6.16214)           0             1\n",
       "3   3  POINT (7.76544 5.00000)           0             1\n",
       "4   4  POINT (3.00000 1.75230)           0             1"
      ]
     },
     "execution_count": 181,
     "metadata": {},
     "output_type": "execute_result"
    }
   ],
   "source": [
    "clients_snapped['dem_quantity'] = numpy.array([1, 1, 1, 1, 1])\n",
    "clients_snapped"
   ]
  },
  {
   "cell_type": "markdown",
   "metadata": {},
   "source": [
    "With ``LSCP.from_geodataframe`` we model the LSC problem to cover all demand points with $p$ facility points within `max_coverage` meters as service radius using geodataframes without calculating the cost matrix previously."
   ]
  },
  {
   "cell_type": "code",
   "execution_count": 182,
   "metadata": {},
   "outputs": [],
   "source": [
    "lscp_from_geodataframe = LSCP.from_geodataframe(\n",
    "    gdf_demand=clients_snapped, gdf_fac=facilities_snapped, demand_col=\"geometry\", facility_col=\"geometry\", service_radius=SERVICE_RADIUS, facility_capacity_col='capacity',demand_quantity_col='dem_quantity',distance_metric=\"euclidean\"\n",
    ")\n",
    "lscp_from_geodataframe = lscp_from_geodataframe.solve(solver)"
   ]
  },
  {
   "cell_type": "markdown",
   "metadata": {},
   "source": [
    "Modelling LSCP with preselected facilities"
   ]
  },
  {
   "cell_type": "code",
   "execution_count": 183,
   "metadata": {},
   "outputs": [],
   "source": [
    "lscp_preselected_from_geodataframe = LSCP.from_geodataframe(\n",
    "    clients_snapped, facilities_snapped, \"geometry\", \"geometry\", SERVICE_RADIUS, predefined_facility_col=\"predefined_loc\", facility_capacity_col='capacity', demand_quantity_col='dem_quantity', distance_metric=\"euclidean\"\n",
    ")\n",
    "lscp_preselected_from_geodataframe = lscp_preselected_from_geodataframe.solve(solver)"
   ]
  },
  {
   "cell_type": "markdown",
   "metadata": {},
   "source": [
    "## Plotting the results"
   ]
  },
  {
   "cell_type": "markdown",
   "metadata": {},
   "source": [
    "The cell below describe the plotting of the results. For each method from LSCP class (from_cost_matrix, from_geodataframe) there is a plot displaying the facility site that was selected with a star colored and the points covered with the same color. Sometimes the demand points will be colored with not expected colors, it represents the coverage overlapping."
   ]
  },
  {
   "cell_type": "code",
   "execution_count": 184,
   "metadata": {},
   "outputs": [],
   "source": [
    "from matplotlib.patches import Patch\n",
    "import matplotlib.lines as mlines\n",
    "\n",
    "dv_colors_arr = [\n",
    "    \"darkcyan\",\n",
    "    \"mediumseagreen\",\n",
    "    \"cyan\",\n",
    "    \"darkslategray\",\n",
    "    \"lightskyblue\",\n",
    "    \"limegreen\",\n",
    "    \"darkgoldenrod\",\n",
    "    \"peachpuff\",\n",
    "    \"coral\",\n",
    "    \"mediumvioletred\",\n",
    "    \"blueviolet\",\n",
    "    \"fuchsia\",\n",
    "    \"thistle\",\n",
    "    \"lavender\",\n",
    "    \"saddlebrown\",\n",
    "] \n",
    "\n",
    "dv_colors = { f\"y{i}\":dv_colors_arr[i] for i in range(len(dv_colors_arr))}\n",
    "\n",
    "def plot_results(model, facility_points, title):\n",
    "    arr_points = []\n",
    "    fac_sites = []\n",
    "    \n",
    "    for i in range(FACILITY_COUNT):\n",
    "        if model.fac2cli[i]:\n",
    "\n",
    "            geom = client_points.iloc[model.fac2cli[i]]['geometry']\n",
    "            arr_points.append(geom)\n",
    "            fac_sites.append(i)\n",
    "\n",
    "    fig, ax = plt.subplots(figsize=(6, 6))\n",
    "    legend_elements = []\n",
    "\n",
    "    street.plot(ax=ax, alpha=1, color='black', zorder=1)\n",
    "    legend_elements.append(mlines.Line2D(\n",
    "        [],\n",
    "        [],\n",
    "        color='black',\n",
    "        label='streets',\n",
    "    ))\n",
    "\n",
    "    facility_points.plot(ax=ax, color='brown', marker=\"*\", markersize=80, zorder=2)\n",
    "    legend_elements.append(mlines.Line2D(\n",
    "        [],\n",
    "        [],\n",
    "        color='brown',\n",
    "        marker=\"*\",\n",
    "        linewidth=0,\n",
    "        label=f'facility sites ($n$={FACILITY_COUNT})'\n",
    "    ))\n",
    "\n",
    "    for i in range(len(arr_points)):\n",
    "        gdf = geopandas.GeoDataFrame(arr_points[i])\n",
    "\n",
    "        l = f\"y{fac_sites[i]}\"\n",
    "\n",
    "        label = f\"coverage_points by y{fac_sites[i]}\"\n",
    "        legend_elements.append(Patch(facecolor=dv_colors[l], edgecolor=\"k\", label=label))\n",
    "\n",
    "        gdf.plot(ax=ax, zorder=3, alpha=0.7, edgecolor=\"k\", color=dv_colors[l], label=label)\n",
    "        facility_points.iloc[[fac_sites[i]]].plot(ax=ax,\n",
    "                                marker=\"*\",\n",
    "                                markersize=200 * 3.0,\n",
    "                                alpha=0.8,\n",
    "                                zorder=4,\n",
    "                                edgecolor=\"k\",\n",
    "                                facecolor=dv_colors[l])\n",
    "        \n",
    "        legend_elements.append(mlines.Line2D(\n",
    "            [],\n",
    "            [],\n",
    "            color=dv_colors[l],\n",
    "            marker=\"*\",\n",
    "            ms=20 / 2,\n",
    "            markeredgecolor=\"k\",\n",
    "            linewidth=0,\n",
    "            alpha=0.8,\n",
    "            label=f\"y{fac_sites[i]} facility selected\",\n",
    "        ))\n",
    "\n",
    "    plt.title(f\"{title}\", fontweight=\"bold\")\n",
    "    plt.legend(handles = legend_elements, loc='upper left', bbox_to_anchor=(1.05, 1))"
   ]
  },
  {
   "cell_type": "markdown",
   "metadata": {},
   "source": [
    "### LSCP built from cost matrix"
   ]
  },
  {
   "cell_type": "code",
   "execution_count": 185,
   "metadata": {},
   "outputs": [
    {
     "data": {
      "image/png": "[encoded data removed]",
      "text/plain": [
       "<Figure size 432x432 with 1 Axes>"
      ]
     },
     "metadata": {
      "needs_background": "light"
     },
     "output_type": "display_data"
    }
   ],
   "source": [
    "plot_results(lscp_from_cost_matrix, facility_points, \"CLSCP - Original\")"
   ]
  },
  {
   "cell_type": "markdown",
   "metadata": {},
   "source": [
    "Below you may notice the plot only shows three demand points; this is because the two other demand points fall outside the 8 meter maximal service distance."
   ]
  },
  {
   "cell_type": "code",
   "execution_count": 186,
   "metadata": {},
   "outputs": [
    {
     "data": {
      "image/png": "[encoded data removed]",
      "text/plain": [
       "<Figure size 432x432 with 1 Axes>"
      ]
     },
     "metadata": {
      "needs_background": "light"
     },
     "output_type": "display_data"
    }
   ],
   "source": [
    "plot_results(lscp_from_cost_matrix_switched, facility_points, \"CLSCP - Capacities Switched\")"
   ]
  },
  {
   "cell_type": "markdown",
   "metadata": {},
   "source": [
    "Demand nodes are split between facility points to accomodate facility capacity."
   ]
  },
  {
   "cell_type": "code",
   "execution_count": 187,
   "metadata": {},
   "outputs": [
    {
     "data": {
      "image/png": "[encoded data removed]",
      "text/plain": [
       "<Figure size 432x432 with 1 Axes>"
      ]
     },
     "metadata": {
      "needs_background": "light"
     },
     "output_type": "display_data"
    }
   ],
   "source": [
    "plot_results(lscp_from_cost_matrix_even, facility_points, \"CLSCP - Even Capacities\")"
   ]
  },
  {
   "cell_type": "markdown",
   "metadata": {},
   "source": [
    "### LSCP built from geodataframe"
   ]
  },
  {
   "cell_type": "code",
   "execution_count": 188,
   "metadata": {},
   "outputs": [
    {
     "ename": "TypeError",
     "evalue": "plot_results() missing 1 required positional argument: 'title'",
     "output_type": "error",
     "traceback": [
      "\u001b[0;31m---------------------------------------------------------------------------\u001b[0m",
      "\u001b[0;31mTypeError\u001b[0m                                 Traceback (most recent call last)",
      "\u001b[1;32m/Users/erinolson/spopt/notebooks/lscp_capacity.ipynb Cell 52'\u001b[0m in \u001b[0;36m<cell line: 1>\u001b[0;34m()\u001b[0m\n\u001b[0;32m----> <a href='vscode-notebook-cell:/Users/erinolson/spopt/notebooks/lscp_capacity.ipynb#ch0000053?line=0'>1</a>\u001b[0m plot_results(lscp_from_geodataframe, facility_points)\n",
      "\u001b[0;31mTypeError\u001b[0m: plot_results() missing 1 required positional argument: 'title'"
     ]
    }
   ],
   "source": [
    "plot_results(lscp_from_geodataframe, facility_points)"
   ]
  },
  {
   "cell_type": "markdown",
   "metadata": {},
   "source": [
    "You may notice that the models are different. This result is expected as the distance between facility and demand points is calculated with different metrics. The cost matrix is calculated with dijkstra distance while the distance using geodataframe is calculated with euclidean distance. \n",
    "\n",
    "But why it needs just one facility point to cover all of those demand points? It can be explained by the nature of the problem. The problem was configured in a synthetic manner, the street is created with 10x10 lattice and the max_coverage parameter is 8 meters, so this result is not weird at all. You can change the max_coverage parameter to 2 meters and you will obtain a different result but be aware with how many points will be covered."
   ]
  },
  {
   "cell_type": "markdown",
   "metadata": {},
   "source": [
    "### LSCP with preselected facilities"
   ]
  },
  {
   "cell_type": "code",
   "execution_count": null,
   "metadata": {},
   "outputs": [
    {
     "data": {
      "image/png": "[encoded data removed]",
      "text/plain": [
       "<Figure size 432x432 with 1 Axes>"
      ]
     },
     "metadata": {
      "needs_background": "light"
     },
     "output_type": "display_data"
    }
   ],
   "source": [
    "plot_results(lscp_preselected_from_geodataframe, facility_points)"
   ]
  },
  {
   "cell_type": "markdown",
   "metadata": {},
   "source": [
    "## References\n",
    "\n",
    "- [Church, R. L., & Murray, A. T. (2018). Location covering models: History, applications and advancements (1st edition 2018). Springer](https://www.springer.com/gb/book/9783319998459)\n",
    "- [Toregas, C., Swain, R., ReVelle, C., &amp; Bergman, L. (1971). The location of emergency service facilities. Operations Research, 19(6), 1363–1373.](https://pubsonline.informs.org/doi/abs/10.1287/opre.19.6.1363)"
   ]
  }
 ],
 "metadata": {
  "interpreter": {
   "hash": "56b72aab97c5d88c22a6bf5872989e2e65e9296dc12395fbfb8350007c775deb"
  },
  "kernelspec": {
   "display_name": "Python 3.8.13 ('geo_env')",
   "language": "python",
   "name": "python3"
  },
  "language_info": {
   "codemirror_mode": {
    "name": "ipython",
    "version": 3
   },
   "file_extension": ".py",
   "mimetype": "text/x-python",
   "name": "python",
   "nbconvert_exporter": "python",
   "pygments_lexer": "ipython3",
   "version": "3.8.13"
  }
 },
 "nbformat": 4,
 "nbformat_minor": 4
}
