{
 "cells": [
  {
   "cell_type": "markdown",
   "metadata": {
    "jupyter": {
     "outputs_hidden": true
    }
   },
   "source": [
    "# Location Set Covering Problem (LSCP)\n",
    "\n",
    "*Authors:* [Germano Barcelos](https://github.com/gegen07), [James Gaboardi](https://github.com/jGaboardi), [Levi J. Wolf](https://github.com/ljwolf), [Qunshan Zhao](https://github.com/qszhao)\n",
    "\n",
    "Location Set Covering is a problem realized by Toregas, et al. (1971). He figured out that emergency services must have placed according to a response time, since, there is a allowable maximum service time when it's discussed how handle an emergency activity. Therefore he proprosed a model named LSCP that:\n",
    "\n",
    "_Minimize the number of facilities needed and locate them so that every demand area is covered within a predefined maximal service distance or time._ Church L., Murray, A. (2018)\n",
    "\n",
    "**LSCP can be written as:**\n",
    "\n",
    "$\\begin{array} \\displaystyle \\textbf{Minimize} & \\sum_{j=1}^{n}{x_j} && (1) \\\\\n",
    "\\displaystyle \\textbf{Subject to:} & \\sum_{j\\in N_i}{x_j} \\geq 1 & \\forall i & (2) \\\\\n",
    "            & x_j \\in {0,1} & \\forall j & (3) \\\\ \\end{array}$\n",
    "            \n",
    "$\\begin{array} \\displaystyle \\textbf{Where:}\\\\ & & \\displaystyle i & \\small = & \\textrm{index referencing nodes of the network as demand} \\\\\n",
    "& & j & \\small = & \\textrm{index referencing nodes of the network as potential facility sites} \\\\\n",
    "& & S & \\small = & \\textrm{maximal acceptable service distance or time standard} \\\\\n",
    "& & d_{ij} & \\small = & \\textrm{shortest distance or travel time between nodes} \\quad i \\quad \\textrm{and} \\quad j \\\\\n",
    "& & N_i & \\small = & \\{j | d_{ij} < S\\} \\\\\n",
    "& & x_j & \\small = & \\begin{cases} \n",
    "          1, \\text{if a facility is located at node} \\quad j\\\\\n",
    "          0, \\text{otherwise} \\\\\n",
    "       \\end{cases} \\end{array}$\n",
    "       \n",
    "_This excerpt above was quoted from Church L., Murray, A. (2018)_\n",
    "\n",
    "This tutorial solves LSCP using `spopt.locate.coverage.LSCP` instance that depends on a array 2D representing the costs between facilities candidate sites and demand points. For that it uses a lattice 10x10 with simulated points to calculate the costs."
   ]
  },
  {
   "cell_type": "code",
   "execution_count": 1,
   "metadata": {},
   "outputs": [
    {
     "name": "stderr",
     "output_type": "stream",
     "text": [
      "/opt/anaconda3/envs/geo_env/lib/python3.8/site-packages/spaghetti/network.py:36: FutureWarning: The next major release of pysal/spaghetti (2.0.0) will drop support for all ``libpysal.cg`` geometries. This change is a first step in refactoring ``spaghetti`` that is expected to result in dramatically reduced runtimes for network instantiation and operations. Users currently requiring network and point pattern input as ``libpysal.cg`` geometries should prepare for this simply by converting to ``shapely`` geometries.\n",
      "  warnings.warn(f\"{dep_msg}\", FutureWarning)\n"
     ]
    }
   ],
   "source": [
    "from spopt.locate.coverage import LSCP\n",
    "from spopt.locate.util import simulated_geo_points\n",
    "\n",
    "import numpy\n",
    "import geopandas\n",
    "import pulp\n",
    "import spaghetti\n",
    "from shapely.geometry import Point\n",
    "import matplotlib.pyplot as plt"
   ]
  },
  {
   "cell_type": "markdown",
   "metadata": {},
   "source": [
    "Since the model needs a distance cost matrix we should define some variables. In the comments, it's defined what these variables are for but solver. The solver, assigned below as `pulp.PULP_CBC_CMD`, is an interface to optimization solver developed by [COIN-OR](https://github.com/coin-or/Cbc). If you want to use another optimization interface as Gurobi or CPLEX see this [guide](https://coin-or.github.io/pulp/guides/how_to_configure_solvers.html) that explains how to achieve this."
   ]
  },
  {
   "cell_type": "code",
   "execution_count": 2,
   "metadata": {},
   "outputs": [],
   "source": [
    "CLIENT_COUNT = 10 # quantity demand points\n",
    "FACILITY_COUNT = 5 # quantity supply points\n",
    "\n",
    "SERVICE_RADIUS = 8 # maximum service radius in meters\n",
    "\n",
    "# Random seeds for reproducibility\n",
    "CLIENT_SEED = 5 \n",
    "FACILITY_SEED = 6 \n",
    "\n",
    "solver = pulp.PULP_CBC_CMD(msg=False, warmStart=True)"
   ]
  },
  {
   "cell_type": "markdown",
   "metadata": {},
   "source": [
    "## Lattice 10x10"
   ]
  },
  {
   "cell_type": "markdown",
   "metadata": {},
   "source": [
    "Create lattice 10x10 with 9 vertical lines in interior."
   ]
  },
  {
   "cell_type": "code",
   "execution_count": 3,
   "metadata": {},
   "outputs": [],
   "source": [
    "lattice = spaghetti.regular_lattice((0, 0, 10, 10), 9, exterior=True)\n",
    "ntw = spaghetti.Network(in_data=lattice)"
   ]
  },
  {
   "cell_type": "markdown",
   "metadata": {},
   "source": [
    "Transform spaghetti instance into geodataframe."
   ]
  },
  {
   "cell_type": "code",
   "execution_count": 4,
   "metadata": {},
   "outputs": [],
   "source": [
    "street = spaghetti.element_as_gdf(ntw, arcs=True)\n",
    "\n",
    "street_buffered = geopandas.GeoDataFrame(\n",
    "    geopandas.GeoSeries(street[\"geometry\"].buffer(0.2).unary_union),\n",
    "    crs=street.crs,\n",
    "    columns=[\"geometry\"],\n",
    ")"
   ]
  },
  {
   "cell_type": "markdown",
   "metadata": {},
   "source": [
    "Plotting the network created by spaghetti we can verify that it seems a district with quarters and streets."
   ]
  },
  {
   "cell_type": "code",
   "execution_count": 5,
   "metadata": {},
   "outputs": [
    {
     "data": {
      "text/plain": [
       "<matplotlib.axes._subplots.AxesSubplot at 0x7fc2d3210040>"
      ]
     },
     "execution_count": 5,
     "metadata": {},
     "output_type": "execute_result"
    },
    {
     "data": {
      "image/png": "[encoded data removed]",
      "text/plain": [
       "<Figure size 432x288 with 1 Axes>"
      ]
     },
     "metadata": {
      "needs_background": "light"
     },
     "output_type": "display_data"
    }
   ],
   "source": [
    "street.plot()"
   ]
  },
  {
   "cell_type": "markdown",
   "metadata": {},
   "source": [
    "## Simulate points in a network\n",
    "\n",
    "The function `simulated_geo_points` simulates points inside a network. In this case, it uses a lattice network 10x10 created by using spaghetti package. \n",
    "Below we use the function defined above and simulate the points inside lattice bounds."
   ]
  },
  {
   "cell_type": "code",
   "execution_count": 6,
   "metadata": {},
   "outputs": [],
   "source": [
    "client_points = simulated_geo_points(street_buffered, needed=CLIENT_COUNT, seed=CLIENT_SEED)\n",
    "facility_points = simulated_geo_points(\n",
    "    street_buffered, needed=FACILITY_COUNT, seed=FACILITY_SEED\n",
    ")"
   ]
  },
  {
   "cell_type": "markdown",
   "metadata": {},
   "source": [
    "Plotting the 100 client and 5 facility points we can see that the function generates dummy points to an area of 10x10 which is the area created by our lattice created on previous cells."
   ]
  },
  {
   "cell_type": "code",
   "execution_count": 7,
   "metadata": {},
   "outputs": [
    {
     "data": {
      "text/plain": [
       "<matplotlib.legend.Legend at 0x7fc2d333b700>"
      ]
     },
     "execution_count": 7,
     "metadata": {},
     "output_type": "execute_result"
    },
    {
     "data": {
      "image/png": "[encoded data removed]",
      "text/plain": [
       "<Figure size 432x432 with 1 Axes>"
      ]
     },
     "metadata": {
      "needs_background": "light"
     },
     "output_type": "display_data"
    }
   ],
   "source": [
    "fig, ax = plt.subplots(figsize=(6, 6))\n",
    "street.plot(ax=ax, alpha=0.8, zorder=1, label='streets')\n",
    "facility_points.plot(ax=ax, color='red', zorder=2, label='facility candidate sites ($n$=5)')\n",
    "client_points.plot(ax=ax, color='black', label='clients points ($n$=100)')\n",
    "plt.legend(loc='upper left', bbox_to_anchor=(1.05, 1))"
   ]
  },
  {
   "cell_type": "markdown",
   "metadata": {},
   "source": [
    "## Transform simulated points to real points"
   ]
  },
  {
   "cell_type": "markdown",
   "metadata": {},
   "source": [
    "To use cost matrix or geodataframes we have to pay attention in some details. The client and facility points simulated don't belong to network, so if we calculate the distances now we are supposed to receive a wrong result. Before calculating distances we snap points to the networok and then calculate the distances."
   ]
  },
  {
   "cell_type": "markdown",
   "metadata": {},
   "source": [
    "Below we snap points that is not spatially belong to network and create new real points geodataframes"
   ]
  },
  {
   "cell_type": "code",
   "execution_count": 8,
   "metadata": {},
   "outputs": [],
   "source": [
    "ntw.snapobservations(client_points, \"clients\", attribute=True)\n",
    "clients_snapped = spaghetti.element_as_gdf(\n",
    "    ntw, pp_name=\"clients\", snapped=True\n",
    ")\n",
    "\n",
    "ntw.snapobservations(facility_points, \"facilities\", attribute=True)\n",
    "facilities_snapped = spaghetti.element_as_gdf(\n",
    "    ntw, pp_name=\"facilities\", snapped=True\n",
    ")\n"
   ]
  },
  {
   "cell_type": "markdown",
   "metadata": {},
   "source": [
    "Now the plot seems more organized as the points belong to network. \n",
    "The network created is plotted below with facility points and clients points:"
   ]
  },
  {
   "cell_type": "code",
   "execution_count": 9,
   "metadata": {},
   "outputs": [
    {
     "data": {
      "text/plain": [
       "<matplotlib.legend.Legend at 0x7fc2ccb52c10>"
      ]
     },
     "execution_count": 9,
     "metadata": {},
     "output_type": "execute_result"
    },
    {
     "data": {
      "image/png": "[encoded data removed]",
      "text/plain": [
       "<Figure size 432x432 with 1 Axes>"
      ]
     },
     "metadata": {
      "needs_background": "light"
     },
     "output_type": "display_data"
    }
   ],
   "source": [
    "fig, ax = plt.subplots(figsize=(6, 6))\n",
    "street.plot(ax=ax, alpha=0.8, zorder=1, label='streets')\n",
    "facilities_snapped.plot(ax=ax, color='red', zorder=2, label='facility candidate sites ($n$=5)')\n",
    "clients_snapped.plot(ax=ax, color='black', label='clients points ($n$=100)')\n",
    "plt.legend(loc='upper left', bbox_to_anchor=(1.05, 1))"
   ]
  },
  {
   "cell_type": "markdown",
   "metadata": {},
   "source": [
    "## Calculating the cost matrix "
   ]
  },
  {
   "cell_type": "markdown",
   "metadata": {},
   "source": [
    "Calculate distance between clients and facilities."
   ]
  },
  {
   "cell_type": "code",
   "execution_count": 10,
   "metadata": {},
   "outputs": [],
   "source": [
    "cost_matrix = ntw.allneighbordistances(\n",
    "    sourcepattern=ntw.pointpatterns[\"clients\"],\n",
    "    destpattern=ntw.pointpatterns[\"facilities\"],\n",
    ")"
   ]
  },
  {
   "cell_type": "markdown",
   "metadata": {},
   "source": [
    "The expected result here is a Dijkstra distance between clients and facilities points, so we our case an array 2D 100x5."
   ]
  },
  {
   "cell_type": "code",
   "execution_count": 11,
   "metadata": {},
   "outputs": [
    {
     "data": {
      "text/plain": [
       "array([[12.60302601,  3.93598651,  8.16571655,  6.04319467,  5.65607701],\n",
       "       [13.10096347,  4.43392397,  8.66365401,  6.54113213,  5.15813955],\n",
       "       [ 6.9095462 ,  4.2425067 ,  2.47223674,  0.34971486,  5.34955682],\n",
       "       [ 2.98196832,  7.84581224,  3.45534114,  3.57786302,  6.25374871],\n",
       "       [ 7.5002892 ,  6.32806975,  4.55779979,  6.43527791, 11.75939222],\n",
       "       [ 0.60209077, 11.42987132,  5.03940023,  7.16192211,  9.8378078 ],\n",
       "       [ 5.37335867,  6.20113923,  2.43086927,  4.30834738,  9.6324617 ],\n",
       "       [ 5.40801577,  5.41976478,  3.02929369,  1.15181557,  4.85108725],\n",
       "       [ 3.68807115,  8.51585171,  2.12538061,  4.24790249,  7.94717417],\n",
       "       [14.22503627,  4.60274429,  9.78772681,  7.66520493,  4.98931924]])"
      ]
     },
     "execution_count": 11,
     "metadata": {},
     "output_type": "execute_result"
    }
   ],
   "source": [
    "cost_matrix"
   ]
  },
  {
   "cell_type": "code",
   "execution_count": 12,
   "metadata": {},
   "outputs": [
    {
     "data": {
      "text/plain": [
       "array([10, 10, 10, 10, 10])"
      ]
     },
     "execution_count": 12,
     "metadata": {},
     "output_type": "execute_result"
    }
   ],
   "source": [
    "facility_capacity = numpy.array([10, 10, 10, 10, 10])\n",
    "facility_capacity"
   ]
  },
  {
   "cell_type": "code",
   "execution_count": 13,
   "metadata": {},
   "outputs": [
    {
     "data": {
      "text/plain": [
       "array([1, 1, 1, 1, 1, 1, 1, 1, 1, 1])"
      ]
     },
     "execution_count": 13,
     "metadata": {},
     "output_type": "execute_result"
    }
   ],
   "source": [
    "demand_quantity = numpy.array([1, 1, 1, 1, 1, 1, 1, 1, 1, 1])\n",
    "demand_quantity"
   ]
  },
  {
   "cell_type": "markdown",
   "metadata": {},
   "source": [
    "With ``LSCP.from_cost_matrix`` we model LSC problem to cover all demand points with $p$ facility points within `max_coverage` meters as service radius using cost matrix calculated previously."
   ]
  },
  {
   "cell_type": "code",
   "execution_count": 14,
   "metadata": {},
   "outputs": [],
   "source": [
    "lscp_from_cost_matrix = LSCP.from_cost_matrix(\n",
    "    cost_matrix, SERVICE_RADIUS, facility_capacity_arr=facility_capacity, demand_quantity_arr=demand_quantity)"
   ]
  },
  {
   "cell_type": "code",
   "execution_count": 15,
   "metadata": {},
   "outputs": [
    {
     "data": {
      "text/plain": [
       "LSCP:\n",
       "MINIMIZE\n",
       "1*x_0_ + 1*x_1_ + 1*x_2_ + 1*x_3_ + 1*x_4_ + 0\n",
       "SUBJECT TO\n",
       "_C1: - 10 x_0_ + z_0_0_ + z_1_0_ + z_2_0_ + z_3_0_ + z_4_0_ + z_5_0_ + z_6_0_\n",
       " + z_7_0_ + z_8_0_ + z_9_0_ <= 0\n",
       "\n",
       "_C2: - 10 x_1_ + z_0_1_ + z_1_1_ + z_2_1_ + z_3_1_ + z_4_1_ + z_5_1_ + z_6_1_\n",
       " + z_7_1_ + z_8_1_ + z_9_1_ <= 0\n",
       "\n",
       "_C3: - 10 x_2_ + z_0_2_ + z_1_2_ + z_2_2_ + z_3_2_ + z_4_2_ + z_5_2_ + z_6_2_\n",
       " + z_7_2_ + z_8_2_ + z_9_2_ <= 0\n",
       "\n",
       "_C4: - 10 x_3_ + z_0_3_ + z_1_3_ + z_2_3_ + z_3_3_ + z_4_3_ + z_5_3_ + z_6_3_\n",
       " + z_7_3_ + z_8_3_ + z_9_3_ <= 0\n",
       "\n",
       "_C5: - 10 x_4_ + z_0_4_ + z_1_4_ + z_2_4_ + z_3_4_ + z_4_4_ + z_5_4_ + z_6_4_\n",
       " + z_7_4_ + z_8_4_ + z_9_4_ <= 0\n",
       "\n",
       "_C6: x_1_ + x_3_ + x_4_ >= 1\n",
       "\n",
       "_C7: x_1_ + x_3_ + x_4_ >= 1\n",
       "\n",
       "_C8: x_0_ + x_1_ + x_2_ + x_3_ + x_4_ >= 1\n",
       "\n",
       "_C9: x_0_ + x_1_ + x_2_ + x_3_ + x_4_ >= 1\n",
       "\n",
       "_C10: x_0_ + x_1_ + x_2_ + x_3_ >= 1\n",
       "\n",
       "_C11: x_0_ + x_2_ + x_3_ >= 1\n",
       "\n",
       "_C12: x_0_ + x_1_ + x_2_ + x_3_ >= 1\n",
       "\n",
       "_C13: x_0_ + x_1_ + x_2_ + x_3_ + x_4_ >= 1\n",
       "\n",
       "_C14: x_0_ + x_2_ + x_3_ + x_4_ >= 1\n",
       "\n",
       "_C15: x_1_ + x_3_ + x_4_ >= 1\n",
       "\n",
       "VARIABLES\n",
       "0 <= x_0_ <= 1 Integer\n",
       "0 <= x_1_ <= 1 Integer\n",
       "0 <= x_2_ <= 1 Integer\n",
       "0 <= x_3_ <= 1 Integer\n",
       "0 <= x_4_ <= 1 Integer\n",
       "z_0_0_ <= 1 Continuous\n",
       "z_0_1_ <= 1 Continuous\n",
       "z_0_2_ <= 1 Continuous\n",
       "z_0_3_ <= 1 Continuous\n",
       "z_0_4_ <= 1 Continuous\n",
       "z_1_0_ <= 1 Continuous\n",
       "z_1_1_ <= 1 Continuous\n",
       "z_1_2_ <= 1 Continuous\n",
       "z_1_3_ <= 1 Continuous\n",
       "z_1_4_ <= 1 Continuous\n",
       "z_2_0_ <= 1 Continuous\n",
       "z_2_1_ <= 1 Continuous\n",
       "z_2_2_ <= 1 Continuous\n",
       "z_2_3_ <= 1 Continuous\n",
       "z_2_4_ <= 1 Continuous\n",
       "z_3_0_ <= 1 Continuous\n",
       "z_3_1_ <= 1 Continuous\n",
       "z_3_2_ <= 1 Continuous\n",
       "z_3_3_ <= 1 Continuous\n",
       "z_3_4_ <= 1 Continuous\n",
       "z_4_0_ <= 1 Continuous\n",
       "z_4_1_ <= 1 Continuous\n",
       "z_4_2_ <= 1 Continuous\n",
       "z_4_3_ <= 1 Continuous\n",
       "z_4_4_ <= 1 Continuous\n",
       "z_5_0_ <= 1 Continuous\n",
       "z_5_1_ <= 1 Continuous\n",
       "z_5_2_ <= 1 Continuous\n",
       "z_5_3_ <= 1 Continuous\n",
       "z_5_4_ <= 1 Continuous\n",
       "z_6_0_ <= 1 Continuous\n",
       "z_6_1_ <= 1 Continuous\n",
       "z_6_2_ <= 1 Continuous\n",
       "z_6_3_ <= 1 Continuous\n",
       "z_6_4_ <= 1 Continuous\n",
       "z_7_0_ <= 1 Continuous\n",
       "z_7_1_ <= 1 Continuous\n",
       "z_7_2_ <= 1 Continuous\n",
       "z_7_3_ <= 1 Continuous\n",
       "z_7_4_ <= 1 Continuous\n",
       "z_8_0_ <= 1 Continuous\n",
       "z_8_1_ <= 1 Continuous\n",
       "z_8_2_ <= 1 Continuous\n",
       "z_8_3_ <= 1 Continuous\n",
       "z_8_4_ <= 1 Continuous\n",
       "z_9_0_ <= 1 Continuous\n",
       "z_9_1_ <= 1 Continuous\n",
       "z_9_2_ <= 1 Continuous\n",
       "z_9_3_ <= 1 Continuous\n",
       "z_9_4_ <= 1 Continuous"
      ]
     },
     "execution_count": 15,
     "metadata": {},
     "output_type": "execute_result"
    }
   ],
   "source": [
    "lscp_from_cost_matrix.problem"
   ]
  },
  {
   "cell_type": "code",
   "execution_count": 16,
   "metadata": {},
   "outputs": [],
   "source": [
    "lscp_from_cost_matrix = lscp_from_cost_matrix.solve(solver)"
   ]
  },
  {
   "cell_type": "markdown",
   "metadata": {},
   "source": [
    "Expected result is an instance of LSCP."
   ]
  },
  {
   "cell_type": "code",
   "execution_count": 17,
   "metadata": {},
   "outputs": [
    {
     "data": {
      "text/plain": [
       "<spopt.locate.coverage.LSCP at 0x7fc2d325bc70>"
      ]
     },
     "execution_count": 17,
     "metadata": {},
     "output_type": "execute_result"
    }
   ],
   "source": [
    "lscp_from_cost_matrix"
   ]
  },
  {
   "cell_type": "markdown",
   "metadata": {},
   "source": [
    "## Using GeoDataFrame"
   ]
  },
  {
   "cell_type": "markdown",
   "metadata": {},
   "source": [
    "Assigning predefined location using a geodataframe column"
   ]
  },
  {
   "cell_type": "code",
   "execution_count": 18,
   "metadata": {},
   "outputs": [
    {
     "data": {
      "text/html": [
       "<div>\n",
       "<style scoped>\n",
       "    .dataframe tbody tr th:only-of-type {\n",
       "        vertical-align: middle;\n",
       "    }\n",
       "\n",
       "    .dataframe tbody tr th {\n",
       "        vertical-align: top;\n",
       "    }\n",
       "\n",
       "    .dataframe thead th {\n",
       "        text-align: right;\n",
       "    }\n",
       "</style>\n",
       "<table border=\"1\" class=\"dataframe\">\n",
       "  <thead>\n",
       "    <tr style=\"text-align: right;\">\n",
       "      <th></th>\n",
       "      <th>id</th>\n",
       "      <th>geometry</th>\n",
       "      <th>comp_label</th>\n",
       "      <th>predefined_loc</th>\n",
       "    </tr>\n",
       "  </thead>\n",
       "  <tbody>\n",
       "    <tr>\n",
       "      <th>0</th>\n",
       "      <td>0</td>\n",
       "      <td>POINT (9.00000 3.25259)</td>\n",
       "      <td>0</td>\n",
       "      <td>0</td>\n",
       "    </tr>\n",
       "    <tr>\n",
       "      <th>1</th>\n",
       "      <td>1</td>\n",
       "      <td>POINT (0.91963 6.00000)</td>\n",
       "      <td>0</td>\n",
       "      <td>0</td>\n",
       "    </tr>\n",
       "    <tr>\n",
       "      <th>2</th>\n",
       "      <td>2</td>\n",
       "      <td>POINT (5.31010 4.00000)</td>\n",
       "      <td>0</td>\n",
       "      <td>0</td>\n",
       "    </tr>\n",
       "    <tr>\n",
       "      <th>3</th>\n",
       "      <td>3</td>\n",
       "      <td>POINT (5.18758 6.00000)</td>\n",
       "      <td>0</td>\n",
       "      <td>0</td>\n",
       "    </tr>\n",
       "    <tr>\n",
       "      <th>4</th>\n",
       "      <td>4</td>\n",
       "      <td>POINT (6.51169 10.00000)</td>\n",
       "      <td>0</td>\n",
       "      <td>1</td>\n",
       "    </tr>\n",
       "  </tbody>\n",
       "</table>\n",
       "</div>"
      ],
      "text/plain": [
       "   id                  geometry  comp_label  predefined_loc\n",
       "0   0   POINT (9.00000 3.25259)           0               0\n",
       "1   1   POINT (0.91963 6.00000)           0               0\n",
       "2   2   POINT (5.31010 4.00000)           0               0\n",
       "3   3   POINT (5.18758 6.00000)           0               0\n",
       "4   4  POINT (6.51169 10.00000)           0               1"
      ]
     },
     "execution_count": 18,
     "metadata": {},
     "output_type": "execute_result"
    }
   ],
   "source": [
    "facilities_snapped['predefined_loc'] = numpy.array([0, 0, 0, 0, 1])\n",
    "facilities_snapped"
   ]
  },
  {
   "cell_type": "markdown",
   "metadata": {},
   "source": [
    "With ``LSCP.from_geodataframe`` we model the LSC problem to cover all demand points with $p$ facility points within `max_coverage` meters as service radius using geodataframes without calculating the cost matrix previously."
   ]
  },
  {
   "cell_type": "code",
   "execution_count": 20,
   "metadata": {},
   "outputs": [
    {
     "ename": "TypeError",
     "evalue": "unsupported operand type(s) for -=: 'float' and 'str'",
     "output_type": "error",
     "traceback": [
      "\u001b[0;31m---------------------------------------------------------------------------\u001b[0m",
      "\u001b[0;31mTypeError\u001b[0m                                 Traceback (most recent call last)",
      "\u001b[1;32m/Users/erinolson/spopt/notebooks/lscp_capacity.ipynb Cell 39'\u001b[0m in \u001b[0;36m<cell line: 1>\u001b[0;34m()\u001b[0m\n\u001b[0;32m----> <a href='vscode-notebook-cell:/Users/erinolson/spopt/notebooks/lscp_capacity.ipynb#ch0000038?line=0'>1</a>\u001b[0m lscp_from_geodataframe \u001b[39m=\u001b[39m LSCP\u001b[39m.\u001b[39;49mfrom_geodataframe(\n\u001b[1;32m      <a href='vscode-notebook-cell:/Users/erinolson/spopt/notebooks/lscp_capacity.ipynb#ch0000038?line=1'>2</a>\u001b[0m     gdf_demand\u001b[39m=\u001b[39;49mclients_snapped, gdf_fac\u001b[39m=\u001b[39;49mfacilities_snapped, demand_col\u001b[39m=\u001b[39;49m\u001b[39m\"\u001b[39;49m\u001b[39mgeometry\u001b[39;49m\u001b[39m\"\u001b[39;49m, facility_col\u001b[39m=\u001b[39;49m\u001b[39m\"\u001b[39;49m\u001b[39mgeometry\u001b[39;49m\u001b[39m\"\u001b[39;49m, service_radius\u001b[39m=\u001b[39;49mSERVICE_RADIUS, distance_metric\u001b[39m=\u001b[39;49m\u001b[39m\"\u001b[39;49m\u001b[39meuclidean\u001b[39;49m\u001b[39m\"\u001b[39;49m\n\u001b[1;32m      <a href='vscode-notebook-cell:/Users/erinolson/spopt/notebooks/lscp_capacity.ipynb#ch0000038?line=2'>3</a>\u001b[0m )\n\u001b[1;32m      <a href='vscode-notebook-cell:/Users/erinolson/spopt/notebooks/lscp_capacity.ipynb#ch0000038?line=3'>4</a>\u001b[0m lscp_from_geodataframe \u001b[39m=\u001b[39m lscp_from_geodataframe\u001b[39m.\u001b[39msolve(solver)\n",
      "File \u001b[0;32m~/spopt/spopt/locate/coverage.py:285\u001b[0m, in \u001b[0;36mLSCP.from_geodataframe\u001b[0;34m(cls, gdf_demand, gdf_fac, demand_col, facility_col, service_radius, predefined_facility_col, distance_metric, name)\u001b[0m\n\u001b[1;32m    <a href='file:///Users/erinolson/spopt/spopt/locate/coverage.py?line=278'>279</a>\u001b[0m     \u001b[39mraise\u001b[39;00m \u001b[39mValueError\u001b[39;00m(\n\u001b[1;32m    <a href='file:///Users/erinolson/spopt/spopt/locate/coverage.py?line=279'>280</a>\u001b[0m         \u001b[39mf\u001b[39m\u001b[39m\"\u001b[39m\u001b[39mgeodataframes crs are different: gdf_demand-\u001b[39m\u001b[39m{\u001b[39;00mgdf_demand\u001b[39m.\u001b[39mcrs\u001b[39m}\u001b[39;00m\u001b[39m, gdf_fac-\u001b[39m\u001b[39m{\u001b[39;00mgdf_fac\u001b[39m.\u001b[39mcrs\u001b[39m}\u001b[39;00m\u001b[39m\"\u001b[39m\n\u001b[1;32m    <a href='file:///Users/erinolson/spopt/spopt/locate/coverage.py?line=280'>281</a>\u001b[0m     )\n\u001b[1;32m    <a href='file:///Users/erinolson/spopt/spopt/locate/coverage.py?line=282'>283</a>\u001b[0m distances \u001b[39m=\u001b[39m cdist(dem_data, fac_data, distance_metric)\n\u001b[0;32m--> <a href='file:///Users/erinolson/spopt/spopt/locate/coverage.py?line=284'>285</a>\u001b[0m \u001b[39mreturn\u001b[39;00m \u001b[39mcls\u001b[39;49m\u001b[39m.\u001b[39;49mfrom_cost_matrix(\n\u001b[1;32m    <a href='file:///Users/erinolson/spopt/spopt/locate/coverage.py?line=285'>286</a>\u001b[0m     distances, service_radius, predefined_facilities_arr, name\n\u001b[1;32m    <a href='file:///Users/erinolson/spopt/spopt/locate/coverage.py?line=286'>287</a>\u001b[0m )\n",
      "File \u001b[0;32m~/spopt/spopt/locate/coverage.py:160\u001b[0m, in \u001b[0;36mLSCP.from_cost_matrix\u001b[0;34m(cls, cost_matrix, service_radius, predefined_facilities_arr, facility_capacity_arr, demand_quantity_arr, name)\u001b[0m\n\u001b[1;32m    <a href='file:///Users/erinolson/spopt/spopt/locate/coverage.py?line=155'>156</a>\u001b[0m     FacilityModelBuilder\u001b[39m.\u001b[39madd_client_assign_integer_variable(\n\u001b[1;32m    <a href='file:///Users/erinolson/spopt/spopt/locate/coverage.py?line=156'>157</a>\u001b[0m     lscp, r_cli, r_fac, \u001b[39m\"\u001b[39m\u001b[39mz[\u001b[39m\u001b[39m{i}\u001b[39;00m\u001b[39m_\u001b[39m\u001b[39m{j}\u001b[39;00m\u001b[39m]\u001b[39m\u001b[39m\"\u001b[39m, pulp\u001b[39m.\u001b[39mLpContinuous)\n\u001b[1;32m    <a href='file:///Users/erinolson/spopt/spopt/locate/coverage.py?line=158'>159</a>\u001b[0m \u001b[39mif\u001b[39;00m facility_capacity_arr \u001b[39mis\u001b[39;00m \u001b[39mnot\u001b[39;00m \u001b[39mNone\u001b[39;00m:\n\u001b[0;32m--> <a href='file:///Users/erinolson/spopt/spopt/locate/coverage.py?line=159'>160</a>\u001b[0m     FacilityModelBuilder\u001b[39m.\u001b[39;49madd_facility_capacity_constraint(\n\u001b[1;32m    <a href='file:///Users/erinolson/spopt/spopt/locate/coverage.py?line=160'>161</a>\u001b[0m         lscp, lscp\u001b[39m.\u001b[39;49mproblem, lscp\u001b[39m.\u001b[39;49maij, facility_capacity_arr, demand_quantity_arr, r_fac, r_cli\n\u001b[1;32m    <a href='file:///Users/erinolson/spopt/spopt/locate/coverage.py?line=161'>162</a>\u001b[0m     )\n\u001b[1;32m    <a href='file:///Users/erinolson/spopt/spopt/locate/coverage.py?line=163'>164</a>\u001b[0m lscp\u001b[39m.\u001b[39m__add_obj()\n\u001b[1;32m    <a href='file:///Users/erinolson/spopt/spopt/locate/coverage.py?line=164'>165</a>\u001b[0m FacilityModelBuilder\u001b[39m.\u001b[39madd_set_covering_constraint(\n\u001b[1;32m    <a href='file:///Users/erinolson/spopt/spopt/locate/coverage.py?line=165'>166</a>\u001b[0m     lscp, lscp\u001b[39m.\u001b[39mproblem, lscp\u001b[39m.\u001b[39maij, r_fac, r_cli\n\u001b[1;32m    <a href='file:///Users/erinolson/spopt/spopt/locate/coverage.py?line=166'>167</a>\u001b[0m )\n",
      "File \u001b[0;32m~/spopt/spopt/locate/base.py:464\u001b[0m, in \u001b[0;36mFacilityModelBuilder.add_facility_capacity_constraint\u001b[0;34m(obj, model, ni, cl_ni, dq_ni, range_facility, range_client)\u001b[0m\n\u001b[1;32m    <a href='file:///Users/erinolson/spopt/spopt/locate/base.py?line=456'>457</a>\u001b[0m     ni_t \u001b[39m=\u001b[39m ni\u001b[39m.\u001b[39mtranspose() \u001b[39m#may not even need this any more\u001b[39;00m\n\u001b[1;32m    <a href='file:///Users/erinolson/spopt/spopt/locate/base.py?line=458'>459</a>\u001b[0m     \u001b[39mfor\u001b[39;00m j \u001b[39min\u001b[39;00m range_facility:\n\u001b[1;32m    <a href='file:///Users/erinolson/spopt/spopt/locate/base.py?line=459'>460</a>\u001b[0m         \u001b[39m#Demand at (i) multiplied by the fraction of demand (i) assigned to facility (j) must be <= to facility (j)'s capacity. a_i(Z_i_j) <= C_j(X_j)\u001b[39;00m\n\u001b[1;32m    <a href='file:///Users/erinolson/spopt/spopt/locate/base.py?line=460'>461</a>\u001b[0m         \u001b[39m#zij = sum(ni_t[j]) # sum of demand pts assigned to a facility.\u001b[39;00m\n\u001b[1;32m    <a href='file:///Users/erinolson/spopt/spopt/locate/base.py?line=461'>462</a>\u001b[0m         model \u001b[39m+\u001b[39m\u001b[39m=\u001b[39m (\n\u001b[1;32m    <a href='file:///Users/erinolson/spopt/spopt/locate/base.py?line=462'>463</a>\u001b[0m             \u001b[39m#pulp.lpSum([ ni_t[j][i] * zij for i in range_client ])\u001b[39;00m\n\u001b[0;32m--> <a href='file:///Users/erinolson/spopt/spopt/locate/base.py?line=463'>464</a>\u001b[0m             pulp\u001b[39m.\u001b[39;49mlpSum([ dq_ni[i] \u001b[39m*\u001b[39;49m cli_assn_vars[i][j] \u001b[39mfor\u001b[39;49;00m i \u001b[39min\u001b[39;49;00m range_client ])\n\u001b[1;32m    <a href='file:///Users/erinolson/spopt/spopt/locate/base.py?line=464'>465</a>\u001b[0m             \u001b[39m<\u001b[39;49m\u001b[39m=\u001b[39;49m cl_ni[j] \u001b[39m*\u001b[39;49m fac_vars[j]\n\u001b[1;32m    <a href='file:///Users/erinolson/spopt/spopt/locate/base.py?line=465'>466</a>\u001b[0m         )\n\u001b[1;32m    <a href='file:///Users/erinolson/spopt/spopt/locate/base.py?line=466'>467</a>\u001b[0m \u001b[39melse\u001b[39;00m:\n\u001b[1;32m    <a href='file:///Users/erinolson/spopt/spopt/locate/base.py?line=467'>468</a>\u001b[0m     \u001b[39mraise\u001b[39;00m \u001b[39mAttributeError\u001b[39;00m(\n\u001b[1;32m    <a href='file:///Users/erinolson/spopt/spopt/locate/base.py?line=468'>469</a>\u001b[0m         \u001b[39m\"\u001b[39m\u001b[39mbefore setting constraints must set facility variable and demand quantity variable\u001b[39m\u001b[39m\"\u001b[39m \u001b[39m#might want to update this message later\u001b[39;00m\n\u001b[1;32m    <a href='file:///Users/erinolson/spopt/spopt/locate/base.py?line=469'>470</a>\u001b[0m     )\n",
      "File \u001b[0;32m/opt/anaconda3/envs/geo_env/lib/python3.8/site-packages/pulp/pulp.py:1022\u001b[0m, in \u001b[0;36mLpAffineExpression.__le__\u001b[0;34m(self, other)\u001b[0m\n\u001b[1;32m   <a href='file:///opt/anaconda3/envs/geo_env/lib/python3.8/site-packages/pulp/pulp.py?line=1020'>1021</a>\u001b[0m \u001b[39mdef\u001b[39;00m \u001b[39m__le__\u001b[39m(\u001b[39mself\u001b[39m, other):\n\u001b[0;32m-> <a href='file:///opt/anaconda3/envs/geo_env/lib/python3.8/site-packages/pulp/pulp.py?line=1021'>1022</a>\u001b[0m     \u001b[39mreturn\u001b[39;00m LpConstraint(\u001b[39mself\u001b[39;49m \u001b[39m-\u001b[39;49m other, const\u001b[39m.\u001b[39mLpConstraintLE)\n",
      "File \u001b[0;32m/opt/anaconda3/envs/geo_env/lib/python3.8/site-packages/pulp/pulp.py:943\u001b[0m, in \u001b[0;36mLpAffineExpression.__sub__\u001b[0;34m(self, other)\u001b[0m\n\u001b[1;32m    <a href='file:///opt/anaconda3/envs/geo_env/lib/python3.8/site-packages/pulp/pulp.py?line=941'>942</a>\u001b[0m \u001b[39mdef\u001b[39;00m \u001b[39m__sub__\u001b[39m(\u001b[39mself\u001b[39m, other):\n\u001b[0;32m--> <a href='file:///opt/anaconda3/envs/geo_env/lib/python3.8/site-packages/pulp/pulp.py?line=942'>943</a>\u001b[0m     \u001b[39mreturn\u001b[39;00m \u001b[39mself\u001b[39;49m\u001b[39m.\u001b[39;49mcopy()\u001b[39m.\u001b[39;49msubInPlace(other)\n",
      "File \u001b[0;32m/opt/anaconda3/envs/geo_env/lib/python3.8/site-packages/pulp/pulp.py:910\u001b[0m, in \u001b[0;36mLpAffineExpression.subInPlace\u001b[0;34m(self, other)\u001b[0m\n\u001b[1;32m    <a href='file:///opt/anaconda3/envs/geo_env/lib/python3.8/site-packages/pulp/pulp.py?line=907'>908</a>\u001b[0m     \u001b[39mself\u001b[39m\u001b[39m.\u001b[39maddterm(other, \u001b[39m-\u001b[39m\u001b[39m1\u001b[39m)\n\u001b[1;32m    <a href='file:///opt/anaconda3/envs/geo_env/lib/python3.8/site-packages/pulp/pulp.py?line=908'>909</a>\u001b[0m \u001b[39melif\u001b[39;00m \u001b[39misinstance\u001b[39m(other, LpAffineExpression):\n\u001b[0;32m--> <a href='file:///opt/anaconda3/envs/geo_env/lib/python3.8/site-packages/pulp/pulp.py?line=909'>910</a>\u001b[0m     \u001b[39mself\u001b[39m\u001b[39m.\u001b[39mconstant \u001b[39m-\u001b[39m\u001b[39m=\u001b[39m other\u001b[39m.\u001b[39mconstant\n\u001b[1;32m    <a href='file:///opt/anaconda3/envs/geo_env/lib/python3.8/site-packages/pulp/pulp.py?line=910'>911</a>\u001b[0m     \u001b[39mfor\u001b[39;00m v, x \u001b[39min\u001b[39;00m other\u001b[39m.\u001b[39mitems():\n\u001b[1;32m    <a href='file:///opt/anaconda3/envs/geo_env/lib/python3.8/site-packages/pulp/pulp.py?line=911'>912</a>\u001b[0m         \u001b[39mself\u001b[39m\u001b[39m.\u001b[39maddterm(v, \u001b[39m-\u001b[39mx)\n",
      "\u001b[0;31mTypeError\u001b[0m: unsupported operand type(s) for -=: 'float' and 'str'"
     ]
    }
   ],
   "source": [
    "lscp_from_geodataframe = LSCP.from_geodataframe(\n",
    "    gdf_demand=clients_snapped, gdf_fac=facilities_snapped, demand_col=\"geometry\", facility_col=\"geometry\", service_radius=SERVICE_RADIUS, distance_metric=\"euclidean\"\n",
    ")\n",
    "lscp_from_geodataframe = lscp_from_geodataframe.solve(solver)"
   ]
  },
  {
   "cell_type": "markdown",
   "metadata": {},
   "source": [
    "Expected result is an instance of LSCP."
   ]
  },
  {
   "cell_type": "code",
   "execution_count": null,
   "metadata": {},
   "outputs": [],
   "source": [
    "lscp_from_geodataframe"
   ]
  },
  {
   "cell_type": "markdown",
   "metadata": {},
   "source": [
    "Modelling LSCP with preselected facilities"
   ]
  },
  {
   "cell_type": "code",
   "execution_count": null,
   "metadata": {},
   "outputs": [],
   "source": [
    "lscp_preselected_from_geodataframe = LSCP.from_geodataframe(\n",
    "    clients_snapped, facilities_snapped, \"geometry\", \"geometry\", SERVICE_RADIUS, predefined_facility_col=\"predefined_loc\", distance_metric=\"euclidean\"\n",
    ")\n",
    "lscp_preselected_from_geodataframe = lscp_preselected_from_geodataframe.solve(solver)"
   ]
  },
  {
   "cell_type": "markdown",
   "metadata": {},
   "source": [
    "## Plotting the results"
   ]
  },
  {
   "cell_type": "markdown",
   "metadata": {},
   "source": [
    "The cell below describe the plotting of the results. For each method from LSCP class (from_cost_matrix, from_geodataframe) there is a plot displaying the facility site that was selected with a star colored and the points covered with the same color. Sometimes the demand points will be colored with not expected colors, it represents the coverage overlapping."
   ]
  },
  {
   "cell_type": "code",
   "execution_count": null,
   "metadata": {},
   "outputs": [],
   "source": [
    "from matplotlib.patches import Patch\n",
    "import matplotlib.lines as mlines\n",
    "\n",
    "dv_colors_arr = [\n",
    "    \"darkcyan\",\n",
    "    \"mediumseagreen\",\n",
    "    \"cyan\",\n",
    "    \"darkslategray\",\n",
    "    \"lightskyblue\",\n",
    "    \"limegreen\",\n",
    "    \"darkgoldenrod\",\n",
    "    \"peachpuff\",\n",
    "    \"coral\",\n",
    "    \"mediumvioletred\",\n",
    "    \"blueviolet\",\n",
    "    \"fuchsia\",\n",
    "    \"thistle\",\n",
    "    \"lavender\",\n",
    "    \"saddlebrown\",\n",
    "] \n",
    "\n",
    "dv_colors = { f\"y{i}\":dv_colors_arr[i] for i in range(len(dv_colors_arr))}\n",
    "\n",
    "def plot_results(model, facility_points):\n",
    "    arr_points = []\n",
    "    fac_sites = []\n",
    "    \n",
    "    for i in range(FACILITY_COUNT):\n",
    "        if model.fac2cli[i]:\n",
    "\n",
    "            geom = client_points.iloc[model.fac2cli[i]]['geometry']\n",
    "            arr_points.append(geom)\n",
    "            fac_sites.append(i)\n",
    "\n",
    "    fig, ax = plt.subplots(figsize=(6, 6))\n",
    "    legend_elements = []\n",
    "\n",
    "    street.plot(ax=ax, alpha=1, color='black', zorder=1)\n",
    "    legend_elements.append(mlines.Line2D(\n",
    "        [],\n",
    "        [],\n",
    "        color='black',\n",
    "        label='streets',\n",
    "    ))\n",
    "\n",
    "    facility_points.plot(ax=ax, color='brown', marker=\"*\", markersize=80, zorder=2)\n",
    "    legend_elements.append(mlines.Line2D(\n",
    "        [],\n",
    "        [],\n",
    "        color='brown',\n",
    "        marker=\"*\",\n",
    "        linewidth=0,\n",
    "        label=f'facility sites ($n$={FACILITY_COUNT})'\n",
    "    ))\n",
    "\n",
    "    for i in range(len(arr_points)):\n",
    "        gdf = geopandas.GeoDataFrame(arr_points[i])\n",
    "\n",
    "        l = f\"y{fac_sites[i]}\"\n",
    "\n",
    "        label = f\"coverage_points by y{fac_sites[i]}\"\n",
    "        legend_elements.append(Patch(facecolor=dv_colors[l], edgecolor=\"k\", label=label))\n",
    "\n",
    "        gdf.plot(ax=ax, zorder=3, alpha=0.7, edgecolor=\"k\", color=dv_colors[l], label=label)\n",
    "        facility_points.iloc[[fac_sites[i]]].plot(ax=ax,\n",
    "                                marker=\"*\",\n",
    "                                markersize=200 * 3.0,\n",
    "                                alpha=0.8,\n",
    "                                zorder=4,\n",
    "                                edgecolor=\"k\",\n",
    "                                facecolor=dv_colors[l])\n",
    "        \n",
    "        legend_elements.append(mlines.Line2D(\n",
    "            [],\n",
    "            [],\n",
    "            color=dv_colors[l],\n",
    "            marker=\"*\",\n",
    "            ms=20 / 2,\n",
    "            markeredgecolor=\"k\",\n",
    "            linewidth=0,\n",
    "            alpha=0.8,\n",
    "            label=f\"y{fac_sites[i]} facility selected\",\n",
    "        ))\n",
    "\n",
    "    plt.title(\"LSCP\", fontweight=\"bold\")\n",
    "    plt.legend(handles = legend_elements, loc='upper left', bbox_to_anchor=(1.05, 1))"
   ]
  },
  {
   "cell_type": "markdown",
   "metadata": {},
   "source": [
    "### LSCP built from cost matrix"
   ]
  },
  {
   "cell_type": "code",
   "execution_count": null,
   "metadata": {},
   "outputs": [
    {
     "data": {
      "image/png": "[encoded data removed]",
      "text/plain": [
       "<Figure size 432x432 with 1 Axes>"
      ]
     },
     "metadata": {
      "needs_background": "light"
     },
     "output_type": "display_data"
    }
   ],
   "source": [
    "plot_results(lscp_from_cost_matrix, facility_points)"
   ]
  },
  {
   "cell_type": "markdown",
   "metadata": {},
   "source": [
    "### LSCP built from geodataframe"
   ]
  },
  {
   "cell_type": "code",
   "execution_count": null,
   "metadata": {},
   "outputs": [],
   "source": [
    "plot_results(lscp_from_geodataframe, facility_points)"
   ]
  },
  {
   "cell_type": "markdown",
   "metadata": {},
   "source": [
    "You may notice that the models are different. This result is expected as the distance between facility and demand points is calculated with different metrics. The cost matrix is calculated with dijkstra distance while the distance using geodataframe is calculated with euclidean distance. \n",
    "\n",
    "But why it needs just one facility point to cover all of those demand points? It can be explained by the nature of the problem. The problem was configured in a synthetic manner, the street is created with 10x10 lattice and the max_coverage parameter is 8 meters, so this result is not weird at all. You can change the max_coverage parameter to 2 meters and you will obtain a different result but be aware with how many points will be covered."
   ]
  },
  {
   "cell_type": "markdown",
   "metadata": {},
   "source": [
    "### LSCP with preselected facilities"
   ]
  },
  {
   "cell_type": "code",
   "execution_count": null,
   "metadata": {},
   "outputs": [],
   "source": [
    "plot_results(lscp_preselected_from_geodataframe, facility_points)"
   ]
  },
  {
   "cell_type": "markdown",
   "metadata": {},
   "source": [
    "## References\n",
    "\n",
    "- [Church, R. L., & Murray, A. T. (2018). Location covering models: History, applications and advancements (1st edition 2018). Springer](https://www.springer.com/gb/book/9783319998459)\n",
    "- [Toregas, C., Swain, R., ReVelle, C., &amp; Bergman, L. (1971). The location of emergency service facilities. Operations Research, 19(6), 1363–1373.](https://pubsonline.informs.org/doi/abs/10.1287/opre.19.6.1363)"
   ]
  }
 ],
 "metadata": {
  "interpreter": {
   "hash": "56b72aab97c5d88c22a6bf5872989e2e65e9296dc12395fbfb8350007c775deb"
  },
  "kernelspec": {
   "display_name": "Python 3.8.13 ('geo_env')",
   "language": "python",
   "name": "python3"
  },
  "language_info": {
   "codemirror_mode": {
    "name": "ipython",
    "version": 3
   },
   "file_extension": ".py",
   "mimetype": "text/x-python",
   "name": "python",
   "nbconvert_exporter": "python",
   "pygments_lexer": "ipython3",
   "version": "3.8.13"
  }
 },
 "nbformat": 4,
 "nbformat_minor": 4
}
