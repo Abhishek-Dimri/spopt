{
 "cells": [
  {
   "cell_type": "markdown",
   "id": "2a3c3aa9",
   "metadata": {},
   "source": [
    "***Objective:  Attempt to solve the P-Dispersion Problem as a script and access PuLP manually (outside of PySAL spopt ecosystem)\n",
    "\n",
    "***Steps:\n",
    "1)  Solve for P-Dispersion - The objective function of the p-dispersion problem evaluates the system in terms of the smallest distance between any pair of facilities\n",
    "\n",
    "2)  \n",
    "\n",
    "3)  "
   ]
  },
  {
   "cell_type": "code",
   "execution_count": 1,
   "id": "dfd6bccc",
   "metadata": {},
   "outputs": [
    {
     "name": "stderr",
     "output_type": "stream",
     "text": [
      "/opt/anaconda3/envs/geo_env/lib/python3.8/site-packages/spaghetti/network.py:36: FutureWarning: The next major release of pysal/spaghetti (2.0.0) will drop support for all ``libpysal.cg`` geometries. This change is a first step in refactoring ``spaghetti`` that is expected to result in dramatically reduced runtimes for network instantiation and operations. Users currently requiring network and point pattern input as ``libpysal.cg`` geometries should prepare for this simply by converting to ``shapely`` geometries.\n",
      "  warnings.warn(f\"{dep_msg}\", FutureWarning)\n"
     ]
    }
   ],
   "source": [
    "from spopt.locate.disperse import PDispersion\n",
    "from spopt.locate.util import simulated_geo_points\n",
    "\n",
    "import numpy\n",
    "import geopandas\n",
    "import pulp\n",
    "import spaghetti\n",
    "from shapely.geometry import Point\n",
    "import matplotlib.pyplot as plt"
   ]
  },
  {
   "cell_type": "code",
   "execution_count": 2,
   "id": "6725bc44",
   "metadata": {},
   "outputs": [],
   "source": [
    "FACILITY_COUNT = 4 # quantity supply points\n",
    "\n",
    "# Random seeds for reproducibility\n",
    "FACILITY_SEED = 6\n",
    "\n",
    "solver = pulp.PULP_CBC_CMD(msg=False, warmStart=True)"
   ]
  },
  {
   "cell_type": "code",
   "execution_count": 3,
   "id": "4371f5e5",
   "metadata": {},
   "outputs": [],
   "source": [
    "lattice = spaghetti.regular_lattice((0, 0, 10, 10), 9, exterior=True)\n",
    "ntw = spaghetti.Network(in_data=lattice)"
   ]
  },
  {
   "cell_type": "code",
   "execution_count": 4,
   "id": "1f639684",
   "metadata": {},
   "outputs": [],
   "source": [
    "street = spaghetti.element_as_gdf(ntw, arcs=True)\n",
    "\n",
    "street_buffered = geopandas.GeoDataFrame(\n",
    "    geopandas.GeoSeries(street[\"geometry\"].buffer(0.2).unary_union),\n",
    "    crs=street.crs,\n",
    "    columns=[\"geometry\"],\n",
    ")"
   ]
  },
  {
   "cell_type": "code",
   "execution_count": 5,
   "id": "d4b67cb3",
   "metadata": {},
   "outputs": [
    {
     "data": {
      "text/plain": [
       "<matplotlib.axes._subplots.AxesSubplot at 0x7fd7bb14bbb0>"
      ]
     },
     "execution_count": 5,
     "metadata": {},
     "output_type": "execute_result"
    },
    {
     "data": {
      "image/png": "[encoded data removed]",
      "text/plain": [
       "<Figure size 432x288 with 1 Axes>"
      ]
     },
     "metadata": {
      "needs_background": "light"
     },
     "output_type": "display_data"
    }
   ],
   "source": [
    "street.plot()"
   ]
  },
  {
   "cell_type": "code",
   "execution_count": 6,
   "id": "d5aad045",
   "metadata": {},
   "outputs": [],
   "source": [
    "facility_points = simulated_geo_points(\n",
    "    street_buffered, needed=FACILITY_COUNT, seed=FACILITY_SEED\n",
    ")"
   ]
  },
  {
   "cell_type": "code",
   "execution_count": 7,
   "id": "91d8cddf",
   "metadata": {},
   "outputs": [
    {
     "data": {
      "text/plain": [
       "<matplotlib.legend.Legend at 0x7fd7bb33efa0>"
      ]
     },
     "execution_count": 7,
     "metadata": {},
     "output_type": "execute_result"
    },
    {
     "data": {
      "image/png": "[encoded data removed]",
      "text/plain": [
       "<Figure size 432x432 with 1 Axes>"
      ]
     },
     "metadata": {
      "needs_background": "light"
     },
     "output_type": "display_data"
    }
   ],
   "source": [
    "fig, ax = plt.subplots(figsize=(6, 6))\n",
    "street.plot(ax=ax, alpha=0.8, zorder=1, label='streets')\n",
    "facility_points.plot(ax=ax, color='red', zorder=2, label='facility candidate sites ($n$=4)')\n",
    "plt.legend(loc='upper left', bbox_to_anchor=(1.05, 1))"
   ]
  },
  {
   "cell_type": "code",
   "execution_count": 8,
   "id": "1d447220",
   "metadata": {},
   "outputs": [],
   "source": [
    "ntw.snapobservations(facility_points, \"facilities\", attribute=True)\n",
    "facilities_snapped = spaghetti.element_as_gdf(\n",
    "    ntw, pp_name=\"facilities\", snapped=True\n",
    ")"
   ]
  },
  {
   "cell_type": "code",
   "execution_count": 9,
   "id": "81fe5065",
   "metadata": {},
   "outputs": [
    {
     "data": {
      "text/plain": [
       "<matplotlib.legend.Legend at 0x7fd7bb5bab20>"
      ]
     },
     "execution_count": 9,
     "metadata": {},
     "output_type": "execute_result"
    },
    {
     "data": {
      "image/png": "[encoded data removed]",
      "text/plain": [
       "<Figure size 432x432 with 1 Axes>"
      ]
     },
     "metadata": {
      "needs_background": "light"
     },
     "output_type": "display_data"
    }
   ],
   "source": [
    "fig, ax = plt.subplots(figsize=(6, 6))\n",
    "street.plot(ax=ax, alpha=0.8, zorder=1, label='streets')\n",
    "facilities_snapped.plot(ax=ax, color='red', zorder=2, label='facility candidate sites ($n$=4)')\n",
    "plt.legend(loc='upper left', bbox_to_anchor=(1.05, 1))"
   ]
  },
  {
   "cell_type": "code",
   "execution_count": 10,
   "id": "4fbb1d6d",
   "metadata": {},
   "outputs": [
    {
     "data": {
      "text/plain": [
       "array([[ 0.        , 10.82778055,  4.43730946,  6.55983134],\n",
       "       [10.82778055,  0.        ,  6.3904711 ,  4.26794921],\n",
       "       [ 4.43730946,  6.3904711 ,  0.        ,  2.49767925],\n",
       "       [ 6.55983134,  4.26794921,  2.49767925,  0.        ]])"
      ]
     },
     "execution_count": 10,
     "metadata": {},
     "output_type": "execute_result"
    }
   ],
   "source": [
    "#create a cost matrix that tracks facility - to - facility distances\n",
    "cost_matrix = ntw.allneighbordistances(\n",
    "    sourcepattern=ntw.pointpatterns[\"facilities\"],\n",
    "    destpattern=ntw.pointpatterns[\"facilities\"]\n",
    ")\n",
    "cost_matrix"
   ]
  },
  {
   "cell_type": "markdown",
   "id": "bd231297",
   "metadata": {},
   "source": [
    "All code before this is pre-problem setup. Now with the information we have we must create a PuLP problem and use the PuLP solver to solve for P-Dispersion."
   ]
  },
  {
   "cell_type": "markdown",
   "id": "60a80d3c",
   "metadata": {},
   "source": [
    "Below I attempt to solve for P-Dispersion using the spopt package edits I've made."
   ]
  },
  {
   "cell_type": "code",
   "execution_count": 11,
   "id": "43393fcb",
   "metadata": {},
   "outputs": [
    {
     "name": "stderr",
     "output_type": "stream",
     "text": [
      "/opt/anaconda3/envs/geo_env/lib/python3.8/site-packages/pulp/pulp.py:1704: UserWarning: Overwriting previously set objective.\n",
      "  warnings.warn(\"Overwriting previously set objective.\")\n"
     ]
    }
   ],
   "source": [
    "#number of facilities to be sited\n",
    "p = 2\n",
    "\n",
    "disperse_from_cost_matrix = PDispersion.from_cost_matrix(cost_matrix, p)\n",
    "disperse_from_cost_matrix = disperse_from_cost_matrix.solve(solver)"
   ]
  },
  {
   "cell_type": "code",
   "execution_count": 12,
   "id": "919792ed",
   "metadata": {},
   "outputs": [
    {
     "data": {
      "text/plain": [
       "<spopt.locate.disperse.PDispersion at 0x7fd7bb5b5ca0>"
      ]
     },
     "execution_count": 12,
     "metadata": {},
     "output_type": "execute_result"
    }
   ],
   "source": [
    "disperse_from_cost_matrix"
   ]
  },
  {
   "cell_type": "code",
   "execution_count": 13,
   "id": "1a4a733e",
   "metadata": {},
   "outputs": [
    {
     "data": {
      "text/plain": [
       "P-Dispersion:\n",
       "MAXIMIZE\n",
       "-1*D + -10.827780553533692*y_2_ + -10.827780553533692*y_3_ + 24.153240358665123\n",
       "SUBJECT TO\n",
       "_C1: y_0_ + y_1_ + y_2_ + y_3_ = 2\n",
       "\n",
       "VARIABLES\n",
       "D Continuous\n",
       "0 <= y_0_ <= 1 Integer\n",
       "0 <= y_1_ <= 1 Integer\n",
       "0 <= y_2_ <= 1 Integer\n",
       "0 <= y_3_ <= 1 Integer"
      ]
     },
     "execution_count": 13,
     "metadata": {},
     "output_type": "execute_result"
    }
   ],
   "source": [
    "disperse_from_cost_matrix.problem"
   ]
  },
  {
   "cell_type": "code",
   "execution_count": 14,
   "id": "997415fb",
   "metadata": {},
   "outputs": [
    {
     "data": {
      "text/plain": [
       "1"
      ]
     },
     "execution_count": 14,
     "metadata": {},
     "output_type": "execute_result"
    }
   ],
   "source": [
    "disperse_from_cost_matrix.problem.status"
   ]
  },
  {
   "cell_type": "code",
   "execution_count": 15,
   "id": "61f7d5b8",
   "metadata": {},
   "outputs": [
    {
     "name": "stdout",
     "output_type": "stream",
     "text": [
      "\n",
      "Chosen Facility Values\n",
      "y_0_ 1.0\n",
      "y_1_ 1.0\n"
     ]
    }
   ],
   "source": [
    "print('\\n'+ 'Chosen Facility Values')\n",
    "for i in disperse_from_cost_matrix.fac_vars:\n",
    "    if i.varValue == 1:\n",
    "        print(i,i.varValue)"
   ]
  },
  {
   "cell_type": "code",
   "execution_count": 23,
   "id": "bdfed622",
   "metadata": {},
   "outputs": [
    {
     "name": "stdout",
     "output_type": "stream",
     "text": [
      "D 0.0\n"
     ]
    }
   ],
   "source": [
    "print(disperse_from_cost_matrix.disperse_var, disperse_from_cost_matrix.disperse_var.varValue)"
   ]
  },
  {
   "cell_type": "markdown",
   "id": "9aeac6d8",
   "metadata": {},
   "source": [
    "Solve for p-dispersion using a geodataframe with no predefined facilities"
   ]
  },
  {
   "cell_type": "code",
   "execution_count": 16,
   "id": "2c74656f",
   "metadata": {},
   "outputs": [
    {
     "data": {
      "text/html": [
       "<div>\n",
       "<style scoped>\n",
       "    .dataframe tbody tr th:only-of-type {\n",
       "        vertical-align: middle;\n",
       "    }\n",
       "\n",
       "    .dataframe tbody tr th {\n",
       "        vertical-align: top;\n",
       "    }\n",
       "\n",
       "    .dataframe thead th {\n",
       "        text-align: right;\n",
       "    }\n",
       "</style>\n",
       "<table border=\"1\" class=\"dataframe\">\n",
       "  <thead>\n",
       "    <tr style=\"text-align: right;\">\n",
       "      <th></th>\n",
       "      <th>id</th>\n",
       "      <th>geometry</th>\n",
       "      <th>comp_label</th>\n",
       "      <th>predefined_loc</th>\n",
       "    </tr>\n",
       "  </thead>\n",
       "  <tbody>\n",
       "    <tr>\n",
       "      <th>0</th>\n",
       "      <td>0</td>\n",
       "      <td>POINT (9.00000 3.25259)</td>\n",
       "      <td>0</td>\n",
       "      <td>0</td>\n",
       "    </tr>\n",
       "    <tr>\n",
       "      <th>1</th>\n",
       "      <td>1</td>\n",
       "      <td>POINT (0.91963 6.00000)</td>\n",
       "      <td>0</td>\n",
       "      <td>0</td>\n",
       "    </tr>\n",
       "    <tr>\n",
       "      <th>2</th>\n",
       "      <td>2</td>\n",
       "      <td>POINT (5.31010 4.00000)</td>\n",
       "      <td>0</td>\n",
       "      <td>0</td>\n",
       "    </tr>\n",
       "    <tr>\n",
       "      <th>3</th>\n",
       "      <td>3</td>\n",
       "      <td>POINT (5.18758 6.00000)</td>\n",
       "      <td>0</td>\n",
       "      <td>1</td>\n",
       "    </tr>\n",
       "  </tbody>\n",
       "</table>\n",
       "</div>"
      ],
      "text/plain": [
       "   id                 geometry  comp_label  predefined_loc\n",
       "0   0  POINT (9.00000 3.25259)           0               0\n",
       "1   1  POINT (0.91963 6.00000)           0               0\n",
       "2   2  POINT (5.31010 4.00000)           0               0\n",
       "3   3  POINT (5.18758 6.00000)           0               1"
      ]
     },
     "execution_count": 16,
     "metadata": {},
     "output_type": "execute_result"
    }
   ],
   "source": [
    "facilities_snapped['predefined_loc'] = numpy.array([0, 0, 0, 1])\n",
    "facilities_snapped"
   ]
  },
  {
   "cell_type": "code",
   "execution_count": 17,
   "id": "9a3fda66",
   "metadata": {},
   "outputs": [
    {
     "name": "stderr",
     "output_type": "stream",
     "text": [
      "/opt/anaconda3/envs/geo_env/lib/python3.8/site-packages/pulp/pulp.py:1704: UserWarning: Overwriting previously set objective.\n",
      "  warnings.warn(\"Overwriting previously set objective.\")\n"
     ]
    }
   ],
   "source": [
    "#number of facilities to be sited\n",
    "p = 2\n",
    "\n",
    "disperse_from_geodataframe = PDispersion.from_geodataframe(facilities_snapped, \"geometry\", p, distance_metric=\"euclidean\")\n",
    "disperse_from_geodataframe = disperse_from_geodataframe.solve(solver)"
   ]
  },
  {
   "cell_type": "code",
   "execution_count": 18,
   "id": "4f29b26b",
   "metadata": {},
   "outputs": [
    {
     "name": "stdout",
     "output_type": "stream",
     "text": [
      "\n",
      "Chosen Facility Values\n",
      "y_0_ 1.0\n",
      "y_1_ 1.0\n"
     ]
    }
   ],
   "source": [
    "print('\\n'+ 'Chosen Facility Values')\n",
    "for i in disperse_from_geodataframe.fac_vars:\n",
    "    if i.varValue == 1:\n",
    "        print(i,i.varValue)"
   ]
  },
  {
   "cell_type": "markdown",
   "id": "007a8569",
   "metadata": {},
   "source": [
    "Now solve for p-dispersion using a geodataframe and include a predefined facility"
   ]
  },
  {
   "cell_type": "code",
   "execution_count": 19,
   "id": "6f839ea0",
   "metadata": {},
   "outputs": [],
   "source": [
    "#number of facilities to be sited\n",
    "p = 2\n",
    "\n",
    "disperse_from_geodataframe = PDispersion.from_geodataframe(facilities_snapped, \"geometry\", p, predefined_facility_col=\"predefined_loc\", distance_metric=\"euclidean\")\n",
    "disperse_from_geodataframe = disperse_from_geodataframe.solve(solver)"
   ]
  },
  {
   "cell_type": "code",
   "execution_count": 20,
   "id": "0f759cff",
   "metadata": {},
   "outputs": [
    {
     "name": "stdout",
     "output_type": "stream",
     "text": [
      "\n",
      "Chosen Facility Values\n",
      "y_0_ 1.0\n",
      "y_3_ 1.0\n"
     ]
    }
   ],
   "source": [
    "print('\\n'+ 'Chosen Facility Values')\n",
    "for i in disperse_from_geodataframe.fac_vars:\n",
    "    if i.varValue == 1:\n",
    "        print(i,i.varValue)"
   ]
  }
 ],
 "metadata": {
  "interpreter": {
   "hash": "56b72aab97c5d88c22a6bf5872989e2e65e9296dc12395fbfb8350007c775deb"
  },
  "kernelspec": {
   "display_name": "Python 3.8.13 ('geo_env')",
   "language": "python",
   "name": "python3"
  },
  "language_info": {
   "codemirror_mode": {
    "name": "ipython",
    "version": 3
   },
   "file_extension": ".py",
   "mimetype": "text/x-python",
   "name": "python",
   "nbconvert_exporter": "python",
   "pygments_lexer": "ipython3",
   "version": "3.8.13"
  }
 },
 "nbformat": 4,
 "nbformat_minor": 5
}
