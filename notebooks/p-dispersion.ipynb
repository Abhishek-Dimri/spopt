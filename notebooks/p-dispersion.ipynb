{
 "cells": [
  {
   "cell_type": "markdown",
   "id": "4ed711c8",
   "metadata": {},
   "source": [
    "# P-Dispersion (max-min-min) Problem\n",
    "\n",
    "*Authors:* [Erin Olson](https://github.com/erinrolson), [James Gaboardi](https://github.com/jGaboardi), [Levi J. Wolf](https://github.com/ljwolf), [Qunshan Zhao](https://github.com/qszhao)\n",
    "\n",
    "Kuby (1987) described the following problem:\n",
    "\n",
    "_Locate p facilities on a network so that the minimum distance between any pair of facilities is maximized._ Kuby (1987)\n",
    "\n",
    "**P-Dispersion can be written as:**\n",
    "\n",
    "\\begin{equation*}\n",
    "\\textbf{Maximize }D \n",
    "\\end{equation*}\n",
    "\n",
    "_Subject to:_\n",
    "\\begin{equation*}\n",
    "\\sum_{i=1}^{n} Y_i = p \n",
    "\\end{equation*}\n",
    "\n",
    "\\begin{equation*}\n",
    "D \\leq d_{ij} + M (2 - Y_{i} - Y_{j}), \\quad \\forall i; \\forall j > i \n",
    "\\end{equation*}\n",
    "\n",
    "\\begin{equation*}\n",
    "Y_i = \\{0,1\\}, \\quad \\forall i \n",
    "\\end{equation*}\n",
    "\n",
    "_Where:_\n",
    "\n",
    "\\begin{array}{lclll}\n",
    "& & i,j & \\small = & \\textrm{index of potential facility sites} \\\\\n",
    "& & n & \\small = & \\textrm{number of potential facility sites} \\\\\n",
    "& & d_{ij} & \\small = & \\textrm{shortest path distance between sites} \\quad i \\quad \\textrm{and} \\quad j \\\\\n",
    "& & M & \\small = & \\textrm{some large number; such that} \\quad M \\geq \\textrm{max}_{ij}\\{d_{ij}\\} \\\\\n",
    "& & p & \\small = & \\textrm{number of facilities to be located} \\\\\n",
    "& & Y_i & \\small = & \\begin{cases} \n",
    "          1 \\quad \\text{if facility is located at node} \\quad i\\\\\n",
    "          0 \\quad \\text{if otherwise} \\\\\n",
    "       \\end{cases} \\end{array}\n",
    "\n",
    "\n",
    "\n",
    "\n",
    "_The above fomulation was quoted from (Maliszewski et al 2012), the original formulation is from (Kuby 1987)._ \n",
    "\n",
    "\n",
    "This tutorial solves for P-Dispersion using `spopt.locate.p_dispersion.PDispersion` instance that depends on a 2D array representing the costs between facility candidate sites. Costs are calculated from a 10x10 lattice with simulated points."
   ]
  },
  {
   "cell_type": "code",
   "execution_count": 332,
   "id": "dfd6bccc",
   "metadata": {},
   "outputs": [],
   "source": [
    "from spopt.locate.p_dispersion import PDispersion\n",
    "from spopt.locate.util import simulated_geo_points\n",
    "\n",
    "import numpy\n",
    "import geopandas\n",
    "import pulp\n",
    "import spaghetti\n",
    "from shapely.geometry import Point\n",
    "import matplotlib.pyplot as plt"
   ]
  },
  {
   "cell_type": "code",
   "execution_count": 333,
   "id": "6725bc44",
   "metadata": {},
   "outputs": [],
   "source": [
    "FACILITY_COUNT = 4 # quantity supply points\n",
    "\n",
    "# Random seeds for reproducibility\n",
    "FACILITY_SEED = 6\n",
    "\n",
    "solver = pulp.PULP_CBC_CMD(msg=False, warmStart=True)"
   ]
  },
  {
   "cell_type": "markdown",
   "id": "48f8cf4c",
   "metadata": {},
   "source": [
    "## Lattice 10x10"
   ]
  },
  {
   "cell_type": "markdown",
   "id": "4e579217",
   "metadata": {},
   "source": [
    "Create a 10x10 lattice with 9 vertical lines in the interior."
   ]
  },
  {
   "cell_type": "code",
   "execution_count": 334,
   "id": "4371f5e5",
   "metadata": {},
   "outputs": [],
   "source": [
    "lattice = spaghetti.regular_lattice((0, 0, 10, 10), 9, exterior=True)\n",
    "ntw = spaghetti.Network(in_data=lattice)"
   ]
  },
  {
   "cell_type": "markdown",
   "id": "cf6e7748",
   "metadata": {},
   "source": [
    "Transform the spaghetti instance into a geodataframe."
   ]
  },
  {
   "cell_type": "code",
   "execution_count": 335,
   "id": "1f639684",
   "metadata": {},
   "outputs": [],
   "source": [
    "street = spaghetti.element_as_gdf(ntw, arcs=True)\n",
    "\n",
    "street_buffered = geopandas.GeoDataFrame(\n",
    "    geopandas.GeoSeries(street[\"geometry\"].buffer(0.2).unary_union),\n",
    "    crs=street.crs,\n",
    "    columns=[\"geometry\"],\n",
    ")"
   ]
  },
  {
   "cell_type": "markdown",
   "id": "7ff2e134",
   "metadata": {},
   "source": [
    "By plotting the network created by spaghetti we can verify the simulation of a district with quarters and streets."
   ]
  },
  {
   "cell_type": "code",
   "execution_count": 336,
   "id": "d4b67cb3",
   "metadata": {},
   "outputs": [
    {
     "data": {
      "text/plain": [
       "<matplotlib.axes._subplots.AxesSubplot at 0x7feff21e6850>"
      ]
     },
     "execution_count": 336,
     "metadata": {},
     "output_type": "execute_result"
    },
    {
     "data": {
      "image/png": "[encoded data removed]",
      "text/plain": [
       "<Figure size 432x288 with 1 Axes>"
      ]
     },
     "metadata": {
      "needs_background": "light"
     },
     "output_type": "display_data"
    }
   ],
   "source": [
    "street.plot()"
   ]
  },
  {
   "cell_type": "markdown",
   "id": "8fcf8cfe",
   "metadata": {},
   "source": [
    "## Simulate points in a network\n",
    "\n",
    "The function `simulated_geo_points` simulates points inside a network. In this case, it uses a lattice network 10x10 created using the spaghetti package. \n",
    "Below we use the function defined above and simulate the points inside the lattice bounds."
   ]
  },
  {
   "cell_type": "code",
   "execution_count": 337,
   "id": "d5aad045",
   "metadata": {},
   "outputs": [],
   "source": [
    "facility_points = simulated_geo_points(\n",
    "    street_buffered, needed=FACILITY_COUNT, seed=FACILITY_SEED\n",
    ")"
   ]
  },
  {
   "cell_type": "markdown",
   "id": "bfb6aa6b",
   "metadata": {},
   "source": [
    "Plotting the 4 facility points we can see that the function generates dummy points to an area of 10x10 which is the area created by our lattice created on previous cells."
   ]
  },
  {
   "cell_type": "code",
   "execution_count": 338,
   "id": "91d8cddf",
   "metadata": {},
   "outputs": [
    {
     "data": {
      "text/plain": [
       "<matplotlib.legend.Legend at 0x7feff230a670>"
      ]
     },
     "execution_count": 338,
     "metadata": {},
     "output_type": "execute_result"
    },
    {
     "data": {
      "image/png": "[encoded data removed]",
      "text/plain": [
       "<Figure size 432x432 with 1 Axes>"
      ]
     },
     "metadata": {
      "needs_background": "light"
     },
     "output_type": "display_data"
    }
   ],
   "source": [
    "fig, ax = plt.subplots(figsize=(6, 6))\n",
    "street.plot(ax=ax, alpha=0.8, zorder=1, label='streets')\n",
    "facility_points.plot(ax=ax, color='red', zorder=2, label='facility candidate sites ($n$=4)')\n",
    "plt.legend(loc='upper left', bbox_to_anchor=(1.05, 1))"
   ]
  },
  {
   "cell_type": "markdown",
   "id": "8bc1b992",
   "metadata": {},
   "source": [
    "## Transform simulated points to real points"
   ]
  },
  {
   "cell_type": "markdown",
   "id": "60d0b663",
   "metadata": {},
   "source": [
    "To use a cost matrix or geodataframes we have to pay attention to certain details. The facility points simulated don't currently belong to a network, so if we calculate the network distances between facilities now we would receive an incorrect result. Before calculating distances we must snap points to the network and then calculate the distances."
   ]
  },
  {
   "cell_type": "markdown",
   "id": "7b485415",
   "metadata": {},
   "source": [
    "Below we snap points to the lattice created above and create new real points geodataframes."
   ]
  },
  {
   "cell_type": "code",
   "execution_count": 339,
   "id": "1d447220",
   "metadata": {},
   "outputs": [],
   "source": [
    "ntw.snapobservations(facility_points, \"facilities\", attribute=True)\n",
    "facilities_snapped = spaghetti.element_as_gdf(\n",
    "    ntw, pp_name=\"facilities\", snapped=True\n",
    ")"
   ]
  },
  {
   "cell_type": "markdown",
   "id": "af1768f2",
   "metadata": {},
   "source": [
    "The plot is now visually more organized as the points belong to a network. \n",
    "The network created is plotted below:"
   ]
  },
  {
   "cell_type": "code",
   "execution_count": 340,
   "id": "81fe5065",
   "metadata": {},
   "outputs": [
    {
     "data": {
      "text/plain": [
       "<matplotlib.legend.Legend at 0x7feff1c1bd90>"
      ]
     },
     "execution_count": 340,
     "metadata": {},
     "output_type": "execute_result"
    },
    {
     "data": {
      "image/png": "[encoded data removed]",
      "text/plain": [
       "<Figure size 432x432 with 1 Axes>"
      ]
     },
     "metadata": {
      "needs_background": "light"
     },
     "output_type": "display_data"
    }
   ],
   "source": [
    "fig, ax = plt.subplots(figsize=(6, 6))\n",
    "street.plot(ax=ax, alpha=0.8, zorder=1, label='streets')\n",
    "facilities_snapped.plot(ax=ax, color='red', zorder=2, label='facility candidate sites ($n$=4)')\n",
    "plt.legend(loc='upper left', bbox_to_anchor=(1.05, 1))"
   ]
  },
  {
   "cell_type": "markdown",
   "id": "740efaee",
   "metadata": {},
   "source": [
    "## Calculating the cost matrix "
   ]
  },
  {
   "cell_type": "markdown",
   "id": "b5f02e47",
   "metadata": {},
   "source": [
    "Calculate the distance between facilities."
   ]
  },
  {
   "cell_type": "code",
   "execution_count": 341,
   "id": "4fbb1d6d",
   "metadata": {},
   "outputs": [],
   "source": [
    "cost_matrix = ntw.allneighbordistances(\n",
    "    sourcepattern=ntw.pointpatterns[\"facilities\"],\n",
    "    destpattern=ntw.pointpatterns[\"facilities\"]\n",
    ")"
   ]
  },
  {
   "cell_type": "markdown",
   "id": "9a67562b",
   "metadata": {},
   "source": [
    "The expected result is a Dijkstra distance between facilities, so in our case an array 2D 4x4."
   ]
  },
  {
   "cell_type": "code",
   "execution_count": 342,
   "id": "98bf0abb",
   "metadata": {},
   "outputs": [
    {
     "data": {
      "text/plain": [
       "array([[ 0.        , 10.82778055,  4.43730946,  6.55983134],\n",
       "       [10.82778055,  0.        ,  6.3904711 ,  4.26794921],\n",
       "       [ 4.43730946,  6.3904711 ,  0.        ,  2.49767925],\n",
       "       [ 6.55983134,  4.26794921,  2.49767925,  0.        ]])"
      ]
     },
     "execution_count": 342,
     "metadata": {},
     "output_type": "execute_result"
    }
   ],
   "source": [
    "cost_matrix"
   ]
  },
  {
   "cell_type": "markdown",
   "id": "bd231297",
   "metadata": {},
   "source": [
    "All code before this is pre-problem setup. Now with the information we have we must create a PuLP problem and use the PuLP solver to solve for P-Dispersion."
   ]
  },
  {
   "cell_type": "code",
   "execution_count": 343,
   "id": "43393fcb",
   "metadata": {},
   "outputs": [],
   "source": [
    "#number of facilities to be sited\n",
    "p = 2\n",
    "\n",
    "disperse_from_cost_matrix = PDispersion.from_cost_matrix(cost_matrix, p)\n",
    "disperse_from_cost_matrix = disperse_from_cost_matrix.solve(solver)"
   ]
  },
  {
   "cell_type": "markdown",
   "id": "78fa8d60",
   "metadata": {},
   "source": [
    "The expected result is an instance of PDispersion."
   ]
  },
  {
   "cell_type": "code",
   "execution_count": 344,
   "id": "919792ed",
   "metadata": {},
   "outputs": [
    {
     "data": {
      "text/plain": [
       "<spopt.locate.p_dispersion.PDispersion at 0x7feff23b4f10>"
      ]
     },
     "execution_count": 344,
     "metadata": {},
     "output_type": "execute_result"
    }
   ],
   "source": [
    "disperse_from_cost_matrix"
   ]
  },
  {
   "cell_type": "markdown",
   "id": "415b509e",
   "metadata": {},
   "source": [
    "Verify which locations have been selected."
   ]
  },
  {
   "cell_type": "code",
   "execution_count": 345,
   "id": "61f7d5b8",
   "metadata": {},
   "outputs": [
    {
     "name": "stdout",
     "output_type": "stream",
     "text": [
      "\n",
      "Chosen Facility Values:\n",
      "y_0_ 1.0\n",
      "y_1_ 1.0\n"
     ]
    }
   ],
   "source": [
    "print('\\n'+ 'Chosen Facility Values:')\n",
    "for i in disperse_from_cost_matrix.fac_vars:\n",
    "    if i.varValue == 1:\n",
    "        print(i,i.varValue)"
   ]
  },
  {
   "cell_type": "markdown",
   "id": "159b3e0f",
   "metadata": {},
   "source": [
    "Retreive the value of the maximization function."
   ]
  },
  {
   "cell_type": "code",
   "execution_count": 346,
   "id": "bdfed622",
   "metadata": {},
   "outputs": [
    {
     "name": "stdout",
     "output_type": "stream",
     "text": [
      "Maximization Variable:  D 10.827781\n"
     ]
    }
   ],
   "source": [
    "print('Maximization Variable: ',disperse_from_cost_matrix.disperse_var, disperse_from_cost_matrix.disperse_var.varValue)"
   ]
  },
  {
   "cell_type": "markdown",
   "id": "9aeac6d8",
   "metadata": {},
   "source": [
    "## Solve for P-Dispersion using a GeoDataFrame with Predefined Facilities"
   ]
  },
  {
   "cell_type": "markdown",
   "id": "bd5d90b8",
   "metadata": {},
   "source": [
    "Assign a predefined location using a geodataframe column."
   ]
  },
  {
   "cell_type": "code",
   "execution_count": 347,
   "id": "2c74656f",
   "metadata": {},
   "outputs": [
    {
     "data": {
      "text/html": [
       "<div>\n",
       "<style scoped>\n",
       "    .dataframe tbody tr th:only-of-type {\n",
       "        vertical-align: middle;\n",
       "    }\n",
       "\n",
       "    .dataframe tbody tr th {\n",
       "        vertical-align: top;\n",
       "    }\n",
       "\n",
       "    .dataframe thead th {\n",
       "        text-align: right;\n",
       "    }\n",
       "</style>\n",
       "<table border=\"1\" class=\"dataframe\">\n",
       "  <thead>\n",
       "    <tr style=\"text-align: right;\">\n",
       "      <th></th>\n",
       "      <th>id</th>\n",
       "      <th>geometry</th>\n",
       "      <th>comp_label</th>\n",
       "      <th>predefined_loc</th>\n",
       "    </tr>\n",
       "  </thead>\n",
       "  <tbody>\n",
       "    <tr>\n",
       "      <th>0</th>\n",
       "      <td>0</td>\n",
       "      <td>POINT (9.00000 3.25259)</td>\n",
       "      <td>0</td>\n",
       "      <td>0</td>\n",
       "    </tr>\n",
       "    <tr>\n",
       "      <th>1</th>\n",
       "      <td>1</td>\n",
       "      <td>POINT (0.91963 6.00000)</td>\n",
       "      <td>0</td>\n",
       "      <td>0</td>\n",
       "    </tr>\n",
       "    <tr>\n",
       "      <th>2</th>\n",
       "      <td>2</td>\n",
       "      <td>POINT (5.31010 4.00000)</td>\n",
       "      <td>0</td>\n",
       "      <td>0</td>\n",
       "    </tr>\n",
       "    <tr>\n",
       "      <th>3</th>\n",
       "      <td>3</td>\n",
       "      <td>POINT (5.18758 6.00000)</td>\n",
       "      <td>0</td>\n",
       "      <td>1</td>\n",
       "    </tr>\n",
       "  </tbody>\n",
       "</table>\n",
       "</div>"
      ],
      "text/plain": [
       "   id                 geometry  comp_label  predefined_loc\n",
       "0   0  POINT (9.00000 3.25259)           0               0\n",
       "1   1  POINT (0.91963 6.00000)           0               0\n",
       "2   2  POINT (5.31010 4.00000)           0               0\n",
       "3   3  POINT (5.18758 6.00000)           0               1"
      ]
     },
     "execution_count": 347,
     "metadata": {},
     "output_type": "execute_result"
    }
   ],
   "source": [
    "predefined_facilities_snapped = facilities_snapped.copy()\n",
    "predefined_facilities_snapped['predefined_loc'] = numpy.array([0, 0, 0, 1])\n",
    "\n",
    "predefined_facilities_snapped"
   ]
  },
  {
   "cell_type": "code",
   "execution_count": 348,
   "id": "6f839ea0",
   "metadata": {},
   "outputs": [],
   "source": [
    "#number of facilities to be sited\n",
    "p = 2\n",
    "\n",
    "disperse_from_geodataframe = PDispersion.from_geodataframe(predefined_facilities_snapped, \"geometry\", p, predefined_facility_col=\"predefined_loc\", distance_metric=\"euclidean\")\n",
    "disperse_from_geodataframe = disperse_from_geodataframe.solve(solver)"
   ]
  },
  {
   "cell_type": "markdown",
   "id": "78fa8d60",
   "metadata": {},
   "source": [
    "Expected result is an instance of PDispersion."
   ]
  },
  {
   "cell_type": "code",
   "execution_count": 349,
   "id": "919792ed",
   "metadata": {},
   "outputs": [
    {
     "data": {
      "text/plain": [
       "<spopt.locate.p_dispersion.PDispersion at 0x7feff25b1b20>"
      ]
     },
     "execution_count": 349,
     "metadata": {},
     "output_type": "execute_result"
    }
   ],
   "source": [
    "disperse_from_geodataframe"
   ]
  },
  {
   "cell_type": "markdown",
   "id": "415b509e",
   "metadata": {},
   "source": [
    "Verify which locations have been selected."
   ]
  },
  {
   "cell_type": "code",
   "execution_count": 350,
   "id": "0f759cff",
   "metadata": {},
   "outputs": [
    {
     "name": "stdout",
     "output_type": "stream",
     "text": [
      "\n",
      "Chosen Facility Values:\n",
      "y_0_ 1.0\n",
      "y_3_ 1.0\n"
     ]
    }
   ],
   "source": [
    "print('\\n'+ 'Chosen Facility Values:')\n",
    "for i in disperse_from_geodataframe.fac_vars:\n",
    "    if i.varValue == 1:\n",
    "        print(i,i.varValue)"
   ]
  },
  {
   "cell_type": "markdown",
   "id": "159b3e0f",
   "metadata": {},
   "source": [
    "Retreive the value of the maximization function."
   ]
  },
  {
   "cell_type": "code",
   "execution_count": 351,
   "id": "5d54d1a6",
   "metadata": {},
   "outputs": [
    {
     "name": "stdout",
     "output_type": "stream",
     "text": [
      "Maximization Variable:  D 4.6992359\n"
     ]
    }
   ],
   "source": [
    "print('Maximization Variable: ', disperse_from_geodataframe.disperse_var, disperse_from_geodataframe.disperse_var.varValue)"
   ]
  },
  {
   "cell_type": "markdown",
   "id": "19698577",
   "metadata": {},
   "source": [
    "## Plot results"
   ]
  },
  {
   "cell_type": "code",
   "execution_count": 352,
   "id": "68e350f6",
   "metadata": {},
   "outputs": [],
   "source": [
    "from matplotlib.patches import Patch\n",
    "import matplotlib.lines as mlines\n",
    "from matplotlib_scalebar.scalebar import ScaleBar\n",
    "\n",
    "dv_colors = [\n",
    "    \"darkslategray\",\n",
    "    \"lightskyblue\",\n",
    "    \"limegreen\",\n",
    "    \"darkgoldenrod\",\n",
    "    \"peachpuff\",\n",
    "    \"coral\",\n",
    "    \"mediumvioletred\",\n",
    "    \"blueviolet\",\n",
    "    \"fuchsia\",\n",
    "    \"thistle\",\n",
    "    \"lavender\",\n",
    "    \"saddlebrown\",\n",
    "]\n",
    "\n",
    "def plot_results(model, facility_points, title): \n",
    "    def define_edgecolor(idf):\n",
    "        if \"predefined_loc\" in idf.columns:\n",
    "            if idf.predefined_loc.iloc[0]:\n",
    "                return \"red\"\n",
    "        \n",
    "        return \"k\"\n",
    "    \n",
    "    def define_label(idf):\n",
    "        if \"predefined_loc\" in idf.columns:\n",
    "            if idf.predefined_loc.iloc[0]:\n",
    "                return \" (predefined)\"\n",
    "        \n",
    "        return \"\"\n",
    "\n",
    "    fac_sites = [] \n",
    "    \n",
    "    for i in range(len(facility_points)):\n",
    "        if model.fac_vars[i].varValue == 1:\n",
    "            fac_sites.append(i)\n",
    "\n",
    "    sited_facilities = range(len(fac_sites))\n",
    "\n",
    "    fig, ax = plt.subplots(figsize=(6, 6))\n",
    "    legend_elements = []\n",
    "\n",
    "    street.plot(ax=ax, alpha=1, color='black', zorder=1)\n",
    "    legend_elements.append(mlines.Line2D(\n",
    "        [],\n",
    "        [],\n",
    "        color='black',\n",
    "        label='streets',\n",
    "    ))\n",
    "\n",
    "    facility_points.plot(ax=ax, color='brown', marker=\"*\", markersize=80, zorder=2)\n",
    "    legend_elements.append(mlines.Line2D(\n",
    "        [],\n",
    "        [],\n",
    "        color='brown',\n",
    "        marker=\"*\",\n",
    "        linewidth=0,\n",
    "        label=f'facility sites ($n$={len(facility_points)})'\n",
    "    ))\n",
    "\n",
    "    \n",
    "    for i in sited_facilities:\n",
    "        facility_points.iloc[[fac_sites[i]]].plot(ax=ax,\n",
    "                    marker=\"*\",\n",
    "                    markersize=200 * 3.0,\n",
    "                    alpha=0.8,\n",
    "                    zorder=4,\n",
    "                    edgecolor=define_edgecolor(facility_points.iloc[[fac_sites[i]]]),\n",
    "                    facecolor=dv_colors[i])\n",
    "    \n",
    "    for i in sited_facilities:\n",
    "        legend_elements.append(mlines.Line2D(\n",
    "            [],\n",
    "            [],\n",
    "            color=dv_colors[i],\n",
    "            marker=\"*\",\n",
    "            ms=20 / 2,\n",
    "            markeredgecolor=define_edgecolor(facility_points.iloc[[fac_sites[i]]]),\n",
    "            linewidth=0,\n",
    "            alpha=0.8,\n",
    "            label=f\"y_{fac_sites[i]}\" + define_label(facility_points.iloc[[fac_sites[i]]]),\n",
    "        ))\n",
    "\n",
    "    plt.title(title, fontweight=\"bold\")\n",
    "    plt.legend(handles = legend_elements, loc='upper left', bbox_to_anchor=(1.05, 1))"
   ]
  },
  {
   "cell_type": "code",
   "execution_count": 353,
   "id": "524e9605",
   "metadata": {},
   "outputs": [
    {
     "data": {
      "image/png": "[encoded data removed]",
      "text/plain": [
       "<Figure size 432x432 with 1 Axes>"
      ]
     },
     "metadata": {
      "needs_background": "light"
     },
     "output_type": "display_data"
    }
   ],
   "source": [
    "plot_results(disperse_from_cost_matrix, facilities_snapped, 'P-Dispersion (cost matrix)')"
   ]
  },
  {
   "cell_type": "code",
   "execution_count": 354,
   "id": "d1eeff4a",
   "metadata": {},
   "outputs": [
    {
     "data": {
      "image/png": "[encoded data removed]",
      "text/plain": [
       "<Figure size 432x432 with 1 Axes>"
      ]
     },
     "metadata": {
      "needs_background": "light"
     },
     "output_type": "display_data"
    }
   ],
   "source": [
    "plot_results(disperse_from_geodataframe, predefined_facilities_snapped, 'P-Dispersion (geodataframe)')"
   ]
  },
  {
   "cell_type": "markdown",
   "id": "ff2ce865",
   "metadata": {},
   "source": [
    "## References\n",
    "\n",
    "- [Kuby, Michael J. 1987. Programming Models for Facility Dispersion: The p-Dispersion and Maximum Dispersion Problems. Geographical Analysis, 19, 315–329.](https://onlinelibrary.wiley.com/doi/abs/10.1111/j.1538-4632.1987.tb00133.x)\n",
    "- [Maliszewski, Paul J., Michael J. Kuby, and Mark W. Horner. 2012. A comparison of multi-objective spatial dispersion models for managing critical assets in urban areas. Computers, Environment and Urban Systems. 36 (4):331-341.](https://www.sciencedirect.com/science/article/pii/S0198971511001293?via%3Dihub)"
   ]
  }
 ],
 "metadata": {
  "interpreter": {
   "hash": "56b72aab97c5d88c22a6bf5872989e2e65e9296dc12395fbfb8350007c775deb"
  },
  "kernelspec": {
   "display_name": "Python 3.8.13 ('geo_env')",
   "language": "python",
   "name": "python3"
  },
  "language_info": {
   "codemirror_mode": {
    "name": "ipython",
    "version": 3
   },
   "file_extension": ".py",
   "mimetype": "text/x-python",
   "name": "python",
   "nbconvert_exporter": "python",
   "pygments_lexer": "ipython3",
   "version": "3.8.13"
  }
 },
 "nbformat": 4,
 "nbformat_minor": 5
}
