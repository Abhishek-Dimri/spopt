{
 "cells": [
  {
   "cell_type": "code",
   "execution_count": 1,
   "metadata": {
    "collapsed": true
   },
   "outputs": [
    {
     "data": {
      "text/plain": "    ID      Length                                           geometry\n0  1.0  244.116229  LINESTRING (222008.039 267347.937, 222008.067 ...\n1  2.0  375.974828  LINESTRING (222007.859 267549.106, 222008.039 ...\n2  3.0  400.353405  LINESTRING (221421.335 267804.115, 221412.310 ...\n3  4.0  660.000000  LINESTRING (220876.024 268352.613, 220804.856 ...\n4  5.0  660.000000  LINESTRING (220803.334 268398.049, 220917.907 ...",
      "text/html": "<div>\n<style scoped>\n    .dataframe tbody tr th:only-of-type {\n        vertical-align: middle;\n    }\n\n    .dataframe tbody tr th {\n        vertical-align: top;\n    }\n\n    .dataframe thead th {\n        text-align: right;\n    }\n</style>\n<table border=\"1\" class=\"dataframe\">\n  <thead>\n    <tr style=\"text-align: right;\">\n      <th></th>\n      <th>ID</th>\n      <th>Length</th>\n      <th>geometry</th>\n    </tr>\n  </thead>\n  <tbody>\n    <tr>\n      <th>0</th>\n      <td>1.0</td>\n      <td>244.116229</td>\n      <td>LINESTRING (222008.039 267347.937, 222008.067 ...</td>\n    </tr>\n    <tr>\n      <th>1</th>\n      <td>2.0</td>\n      <td>375.974828</td>\n      <td>LINESTRING (222007.859 267549.106, 222008.039 ...</td>\n    </tr>\n    <tr>\n      <th>2</th>\n      <td>3.0</td>\n      <td>400.353405</td>\n      <td>LINESTRING (221421.335 267804.115, 221412.310 ...</td>\n    </tr>\n    <tr>\n      <th>3</th>\n      <td>4.0</td>\n      <td>660.000000</td>\n      <td>LINESTRING (220876.024 268352.613, 220804.856 ...</td>\n    </tr>\n    <tr>\n      <th>4</th>\n      <td>5.0</td>\n      <td>660.000000</td>\n      <td>LINESTRING (220803.334 268398.049, 220917.907 ...</td>\n    </tr>\n  </tbody>\n</table>\n</div>"
     },
     "execution_count": 1,
     "metadata": {},
     "output_type": "execute_result"
    }
   ],
   "source": [
    "from collections import OrderedDict\n",
    "import geopandas\n",
    "import libpysal\n",
    "from libpysal import cg, examples\n",
    "import matplotlib\n",
    "import matplotlib.pyplot as plt\n",
    "import matplotlib.lines as mlines\n",
    "import matplotlib.patches as mpatches\n",
    "from matplotlib.colors import ListedColormap\n",
    "# import matplotlib_scalebar\n",
    "# from matplotlib_scalebar.scalebar import ScaleBar\n",
    "import numpy\n",
    "# import ortools\n",
    "# from ortools.linear_solver import pywraplp\n",
    "# import seaborn\n",
    "import shapely\n",
    "from shapely.geometry import Point\n",
    "import spaghetti\n",
    "import sys\n",
    "\n",
    "# n clients and n facilities\n",
    "client_count, facility_count = 400, 14\n",
    "\n",
    "# candidate facilites to site\n",
    "p_facilities = 3\n",
    "\n",
    "# maximum coverage meters\n",
    "max_coverage = 1000.0\n",
    "\n",
    "# minimum coverage meters\n",
    "min_coverage = 800.0\n",
    "\n",
    "random_seeds = {\"client\": 3006, \"facility\": 1520}\n",
    "\n",
    "title = \"Neighborhood X\"\n",
    "\n",
    "streets = geopandas.read_file(examples.get_path(\"streets.shp\"))\n",
    "streets.crs = \"esri:102649\"\n",
    "streets = streets.to_crs(\"epsg:2762\")\n",
    "streets.head()"
   ]
  },
  {
   "cell_type": "code",
   "execution_count": 2,
   "outputs": [
    {
     "data": {
      "text/plain": "                                            geometry\n0  POLYGON ((221825.048 268652.947, 222026.216 26...",
      "text/html": "<div>\n<style scoped>\n    .dataframe tbody tr th:only-of-type {\n        vertical-align: middle;\n    }\n\n    .dataframe tbody tr th {\n        vertical-align: top;\n    }\n\n    .dataframe thead th {\n        text-align: right;\n    }\n</style>\n<table border=\"1\" class=\"dataframe\">\n  <thead>\n    <tr style=\"text-align: right;\">\n      <th></th>\n      <th>geometry</th>\n    </tr>\n  </thead>\n  <tbody>\n    <tr>\n      <th>0</th>\n      <td>POLYGON ((221825.048 268652.947, 222026.216 26...</td>\n    </tr>\n  </tbody>\n</table>\n</div>"
     },
     "execution_count": 2,
     "metadata": {},
     "output_type": "execute_result"
    }
   ],
   "source": [
    "def get_buffer(in_data, buff=50):\n",
    "    \"\"\" geopandas.GeoDataFrame should be in a meters projection.\n",
    "    Parameters\n",
    "    ----------\n",
    "    in_data : geopandas.GeoDataFrame\n",
    "        GeoDataFrame of a shapefile representing a road network.\n",
    "    buff : int or float\n",
    "        Desired buffer distance. Default is 50 (meters).\n",
    "    Returns\n",
    "    -------\n",
    "    out_data : geopandas.GeoDataFrame\n",
    "        Single polygon of the unioned street buffers.\n",
    "    \"\"\"\n",
    "    b1 = in_data.buffer(buff)  # Buffer\n",
    "    ub = b1.unary_union  # Buffer Union\n",
    "    b2 = geopandas.GeoSeries(ub)\n",
    "    out_data = geopandas.GeoDataFrame(b2, crs=in_data.crs, columns=[\"geometry\"])\n",
    "    return out_data\n",
    "\n",
    "buff = 50\n",
    "streets_buffer = get_buffer(streets, buff=buff)\n",
    "streets_buffer"
   ],
   "metadata": {
    "collapsed": false,
    "pycharm": {
     "name": "#%%\n"
    }
   }
  },
  {
   "cell_type": "code",
   "execution_count": 3,
   "outputs": [],
   "source": [
    "def simulated_geo_points(in_data, needed=20, seed=0, to_file=None):\n",
    "    \"\"\"Generate synthetic spatial data points within an area.s\n",
    "    Parameters\n",
    "    ----------\n",
    "    in_data : geopandas.GeoDataFrame\n",
    "        A single polygon of the unioned street buffers.\n",
    "    needed : int\n",
    "        Number of points in the buffer. Default is 20.\n",
    "    seed : int\n",
    "        Seed for pseudo-random number generation. Default is 0.\n",
    "    to_file : str\n",
    "        File name for write out.\n",
    "    Returns\n",
    "    -------\n",
    "    sim_pts : geopandas.GeoDataFrame\n",
    "        Points within the buffer.\n",
    "    \"\"\"\n",
    "    geoms = in_data.geometry\n",
    "    area = tuple(in_data.total_bounds)\n",
    "    simulated_points_list = []\n",
    "    simulated_points_all = False\n",
    "    numpy.random.seed(seed)\n",
    "    while simulated_points_all == False:\n",
    "        x = numpy.random.uniform(area[0], area[2], 1)\n",
    "        y = numpy.random.uniform(area[1], area[3], 1)\n",
    "        point = Point(x, y)\n",
    "        if geoms.intersects(point)[0]:\n",
    "            simulated_points_list.append(point)\n",
    "        if len(simulated_points_list) == needed:\n",
    "            simulated_points_all = True\n",
    "    sim_pts = geopandas.GeoDataFrame(\n",
    "        simulated_points_list, columns=[\"geometry\"], crs=in_data.crs\n",
    "    )\n",
    "    if to_file:\n",
    "        sim_pts.to_file(to_file + \".shp\")\n",
    "    return sim_pts\n",
    "\n",
    "clients = simulated_geo_points(\n",
    "    streets_buffer, needed=client_count, seed=random_seeds[\"client\"]\n",
    ")\n",
    "facilities = simulated_geo_points(\n",
    "    streets_buffer, needed=facility_count, seed=random_seeds[\"facility\"]\n",
    ")"
   ],
   "metadata": {
    "collapsed": false,
    "pycharm": {
     "name": "#%%\n"
    }
   }
  },
  {
   "cell_type": "code",
   "execution_count": 4,
   "outputs": [],
   "source": [
    "clients[\"dv\"] = [\"x[%s]\" % c for c in range(client_count)]\n",
    "facilities[\"dv\"] = [\"y[%s]\" % c for c in range(facility_count)]\n"
   ],
   "metadata": {
    "collapsed": false,
    "pycharm": {
     "name": "#%%\n"
    }
   }
  },
  {
   "cell_type": "code",
   "execution_count": 5,
   "outputs": [
    {
     "data": {
      "text/plain": "                        geometry    dv  weights\n0  POINT (220622.824 267349.656)  x[0]        1\n1  POINT (220804.074 268059.828)  x[1]        7\n2  POINT (221871.690 268396.891)  x[2]        4\n3  POINT (220716.905 267147.549)  x[3]        6\n4  POINT (221331.363 267984.797)  x[4]        5",
      "text/html": "<div>\n<style scoped>\n    .dataframe tbody tr th:only-of-type {\n        vertical-align: middle;\n    }\n\n    .dataframe tbody tr th {\n        vertical-align: top;\n    }\n\n    .dataframe thead th {\n        text-align: right;\n    }\n</style>\n<table border=\"1\" class=\"dataframe\">\n  <thead>\n    <tr style=\"text-align: right;\">\n      <th></th>\n      <th>geometry</th>\n      <th>dv</th>\n      <th>weights</th>\n    </tr>\n  </thead>\n  <tbody>\n    <tr>\n      <th>0</th>\n      <td>POINT (220622.824 267349.656)</td>\n      <td>x[0]</td>\n      <td>1</td>\n    </tr>\n    <tr>\n      <th>1</th>\n      <td>POINT (220804.074 268059.828)</td>\n      <td>x[1]</td>\n      <td>7</td>\n    </tr>\n    <tr>\n      <th>2</th>\n      <td>POINT (221871.690 268396.891)</td>\n      <td>x[2]</td>\n      <td>4</td>\n    </tr>\n    <tr>\n      <th>3</th>\n      <td>POINT (220716.905 267147.549)</td>\n      <td>x[3]</td>\n      <td>6</td>\n    </tr>\n    <tr>\n      <th>4</th>\n      <td>POINT (221331.363 267984.797)</td>\n      <td>x[4]</td>\n      <td>5</td>\n    </tr>\n  </tbody>\n</table>\n</div>"
     },
     "execution_count": 5,
     "metadata": {},
     "output_type": "execute_result"
    }
   ],
   "source": [
    "numpy.random.seed(1991)\n",
    "clients[\"weights\"] = numpy.random.randint(1, 8, (client_count, 1))\n",
    "clients.head()"
   ],
   "metadata": {
    "collapsed": false,
    "pycharm": {
     "name": "#%%\n"
    }
   }
  },
  {
   "cell_type": "code",
   "execution_count": 6,
   "outputs": [],
   "source": [
    "ntw = spaghetti.Network(in_data=streets)"
   ],
   "metadata": {
    "collapsed": false,
    "pycharm": {
     "name": "#%%\n"
    }
   }
  },
  {
   "cell_type": "code",
   "execution_count": 7,
   "outputs": [],
   "source": [
    "ntw.snapobservations(clients, \"clients\", attribute=True)\n",
    "clients_snapped = spaghetti.element_as_gdf(\n",
    "    ntw, pp_name=\"clients\", snapped=True\n",
    ")\n",
    "ntw.snapobservations(facilities, \"facilities\", attribute=True)\n",
    "facilities_snapped = spaghetti.element_as_gdf(\n",
    "    ntw, pp_name=\"facilities\", snapped=True\n",
    ")"
   ],
   "metadata": {
    "collapsed": false,
    "pycharm": {
     "name": "#%%\n"
    }
   }
  },
  {
   "cell_type": "code",
   "execution_count": 8,
   "outputs": [],
   "source": [
    "cost_matrix = ntw.allneighbordistances(\n",
    "    sourcepattern=ntw.pointpatterns[\"clients\"],\n",
    "    destpattern=ntw.pointpatterns[\"facilities\"],\n",
    ")"
   ],
   "metadata": {
    "collapsed": false,
    "pycharm": {
     "name": "#%%\n"
    }
   }
  },
  {
   "cell_type": "code",
   "execution_count": 9,
   "outputs": [
    {
     "name": "stdout",
     "output_type": "stream",
     "text": [
      "y_0_ + y_10_ + y_11_ + y_12_ + y_13_ + y_1_ + y_2_ + y_3_ + y_4_ + y_5_ + y_6_ + y_7_ + y_8_ + y_9_\n",
      "y_0_ = 0\n",
      "y_10_ = 1\n",
      "y_11_ = 0\n",
      "y_12_ = 1\n",
      "y_13_ = 1\n",
      "y_1_ = 0\n",
      "y_2_ = 0\n",
      "y_3_ = 0\n",
      "y_4_ = 1\n",
      "y_5_ = 0\n",
      "y_6_ = 0\n",
      "y_7_ = 0\n",
      "y_8_ = 0\n",
      "y_9_ = 0\n"
     ]
    }
   ],
   "source": [
    "import pulp\n",
    "r_fac = range(cost_matrix.shape[1])\n",
    "r_cli = range(cost_matrix.shape[0])\n",
    "\n",
    "s = max_coverage # meters\n",
    "# binary coverage matrix from cij\n",
    "aij = numpy.zeros(cost_matrix.shape)\n",
    "aij[cost_matrix <= s] = 1.0\n",
    "\n",
    "fac_vars = [pulp.LpVariable(\"y[%i]\" % (j), lowBound=0, upBound=1, cat=\"Integer\") for j in r_fac]\n",
    "print(pulp.lpSum(fac_vars))\n",
    "# objective function\n",
    "model = pulp.LpProblem(\"LSCP\", pulp.LpMinimize)\n",
    "model += pulp.lpSum(fac_vars), \"objective function\"\n",
    "for i in r_cli:\n",
    "    model += pulp.lpSum([aij[i][j] * fac_vars[j] for j in r_fac]) >= 1\n",
    "model.writeLP(\"lscp.lp\")\n",
    "model.solve()\n",
    "\n",
    "for v in model.variables():\n",
    "    print(v.name, \"=\", v.varValue)"
   ],
   "metadata": {
    "collapsed": false,
    "pycharm": {
     "name": "#%%\n"
    }
   }
  },
  {
   "cell_type": "code",
   "execution_count": 10,
   "outputs": [
    {
     "data": {
      "text/plain": "1"
     },
     "execution_count": 10,
     "metadata": {},
     "output_type": "execute_result"
    }
   ],
   "source": [
    "import pulp\n",
    "\n",
    "r_fac = range(cost_matrix.shape[1])\n",
    "r_cli = range(cost_matrix.shape[0])\n",
    "\n",
    "s = max_coverage # meters\n",
    "# binary coverage matrix from cij\n",
    "aij = numpy.zeros(cost_matrix.shape)\n",
    "aij[cost_matrix <= s] = 1.0\n",
    "ai = clients['weights']\n",
    "ai_sum = ai.sum()\n",
    "ai = ai.values.reshape(cost_matrix.shape[0], 1)\n",
    "\n",
    "fac_vars = [pulp.LpVariable(f\"x[{j}]\", lowBound=0, upBound=1, cat=\"Integer\") for j in r_fac]\n",
    "dem_vars = [pulp.LpVariable(f\"y[{i}]\", lowBound=0, upBound=1, cat=\"Integer\") for i in r_cli]\n",
    "\n",
    "model = pulp.LpProblem(\"MCLP\", pulp.LpMaximize)\n",
    "model += pulp.lpSum([ai.flatten()[i] * dem_vars[i] for i in r_cli]), \"objective function\"\n",
    "for i in r_cli:\n",
    "    model += pulp.lpSum([aij[i][j] * fac_vars[j] for j in r_fac]) >= dem_vars[i]\n",
    "\n",
    "model += pulp.lpSum(fac_vars) == p_facilities\n",
    "model.solve()\n",
    "\n",
    "# for v in model.variables():\n",
    "#     print(v.name, \"=\", v.varValue)"
   ],
   "metadata": {
    "collapsed": false,
    "pycharm": {
     "name": "#%%\n"
    }
   }
  },
  {
   "cell_type": "code",
   "execution_count": 11,
   "outputs": [
    {
     "data": {
      "text/plain": "1"
     },
     "execution_count": 11,
     "metadata": {},
     "output_type": "execute_result"
    }
   ],
   "source": [
    "import pulp\n",
    "\n",
    "r_fac = range(cost_matrix.shape[1])\n",
    "r_cli = range(cost_matrix.shape[0])\n",
    "\n",
    "s = max_coverage # meters\n",
    "\n",
    "# binary coverage matrix from cij\n",
    "aij = numpy.zeros(cost_matrix.shape)\n",
    "aij[cost_matrix <= s] = 1.0\n",
    "ai = clients['weights']\n",
    "ai_sum = ai.sum()\n",
    "ai = ai.values.reshape(cost_matrix.shape[0], 1)\n",
    "\n",
    "# weighted demand\n",
    "try:\n",
    "    sij = ai * cost_matrix\n",
    "except ValueError:\n",
    "    ai = ai.values.reshape(cost_matrix.shape[0], 1)\n",
    "    sij = ai * cost_matrix\n",
    "\n",
    "zij = [[pulp.LpVariable(f\"z[{i}_{j}]\", lowBound=0, upBound=1, cat=\"Integer\") for j in r_fac] for i in r_cli]\n",
    "fac_vars = [pulp.LpVariable(f\"y[{j}]\", lowBound=0, upBound=1, cat=\"Integer\") for j in r_fac]\n",
    "model = pulp.LpProblem(\"P-median\", pulp.LpMinimize)\n",
    "model += pulp.lpSum([sij[i][j] * zij[i][j] for i in r_cli for j in r_fac]), \"objective function\"\n",
    "for i in r_cli:\n",
    "    model += pulp.lpSum([zij[i][j] for j in r_fac])==1\n",
    "model += pulp.lpSum([fac_vars[j] for j in r_fac])==p_facilities\n",
    "\n",
    "for i in r_cli:\n",
    "    for j in r_fac:\n",
    "        model += fac_vars[j] - zij[i][j] >= 0\n",
    "\n",
    "model.solve()"
   ],
   "metadata": {
    "collapsed": false,
    "pycharm": {
     "name": "#%%\n"
    }
   }
  },
  {
   "cell_type": "code",
   "execution_count": 12,
   "outputs": [
    {
     "data": {
      "text/plain": "1"
     },
     "execution_count": 12,
     "metadata": {},
     "output_type": "execute_result"
    }
   ],
   "source": [
    "import pulp\n",
    "\n",
    "r_fac = range(cost_matrix.shape[1])\n",
    "r_cli = range(cost_matrix.shape[0])\n",
    "\n",
    "s = max_coverage # meters\n",
    "\n",
    "# binary coverage matrix from cij\n",
    "aij = numpy.zeros(cost_matrix.shape)\n",
    "aij[cost_matrix <= s] = 1.0\n",
    "ai = clients['weights']\n",
    "ai_sum = ai.sum()\n",
    "ai = ai.values.reshape(cost_matrix.shape[0], 1)\n",
    "\n",
    "# weighted demand\n",
    "try:\n",
    "    sij = ai * cost_matrix\n",
    "except ValueError:\n",
    "    ai = ai.values.reshape(cost_matrix.shape[0], 1)\n",
    "    sij = ai * cost_matrix\n",
    "\n",
    "model = pulp.LpProblem('P-Center', pulp.LpMinimize)\n",
    "\n",
    "w = pulp.LpVariable('W', lowBound=0, cat='Continuous')\n",
    "zij = [[pulp.LpVariable(f\"z[{i}_{j}]\", lowBound=0, upBound=1, cat=\"Integer\") for j in r_fac] for i in r_cli]\n",
    "fac_vars = [pulp.LpVariable(f\"y[{j}]\", lowBound=0, upBound=1, cat=\"Integer\") for j in r_fac]\n",
    "\n",
    "model += w, 'objective function'\n",
    "for i in r_cli:\n",
    "    model += pulp.lpSum([zij[i][j] for j in r_fac])==1\n",
    "model += pulp.lpSum([fac_vars[j] for j in r_fac])==p_facilities\n",
    "for i in r_cli:\n",
    "    for j in r_fac:\n",
    "        model += fac_vars[j] - zij[i][j] >= 0\n",
    "\n",
    "for i in r_cli:\n",
    "    model += pulp.lpSum([zij[i][j]*cost_matrix[i][j] for j in r_fac]) <= w\n",
    "\n",
    "model.solve()"
   ],
   "metadata": {
    "collapsed": false,
    "pycharm": {
     "name": "#%%\n"
    }
   }
  },
  {
   "cell_type": "code",
   "execution_count": null,
   "outputs": [],
   "source": [],
   "metadata": {
    "collapsed": false,
    "pycharm": {
     "name": "#%%\n"
    }
   }
  }
 ],
 "metadata": {
  "kernelspec": {
   "display_name": "Python 3",
   "language": "python",
   "name": "python3"
  },
  "language_info": {
   "codemirror_mode": {
    "name": "ipython",
    "version": 2
   },
   "file_extension": ".py",
   "mimetype": "text/x-python",
   "name": "python",
   "nbconvert_exporter": "python",
   "pygments_lexer": "ipython2",
   "version": "2.7.6"
  }
 },
 "nbformat": 4,
 "nbformat_minor": 0
}