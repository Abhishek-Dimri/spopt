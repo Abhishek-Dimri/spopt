{
 "cells": [
  {
   "cell_type": "code",
   "execution_count": 1,
   "metadata": {},
   "outputs": [
    {
     "data": {
      "text/html": [
       "<div>\n",
       "<style scoped>\n",
       "    .dataframe tbody tr th:only-of-type {\n",
       "        vertical-align: middle;\n",
       "    }\n",
       "\n",
       "    .dataframe tbody tr th {\n",
       "        vertical-align: top;\n",
       "    }\n",
       "\n",
       "    .dataframe thead th {\n",
       "        text-align: right;\n",
       "    }\n",
       "</style>\n",
       "<table border=\"1\" class=\"dataframe\">\n",
       "  <thead>\n",
       "    <tr style=\"text-align: right;\">\n",
       "      <th></th>\n",
       "      <th>ID</th>\n",
       "      <th>Length</th>\n",
       "      <th>geometry</th>\n",
       "    </tr>\n",
       "  </thead>\n",
       "  <tbody>\n",
       "    <tr>\n",
       "      <th>0</th>\n",
       "      <td>1.0</td>\n",
       "      <td>244.116229</td>\n",
       "      <td>LINESTRING (222007.131 267348.711, 222007.159 ...</td>\n",
       "    </tr>\n",
       "    <tr>\n",
       "      <th>1</th>\n",
       "      <td>2.0</td>\n",
       "      <td>375.974828</td>\n",
       "      <td>LINESTRING (222006.951 267549.880, 222007.131 ...</td>\n",
       "    </tr>\n",
       "    <tr>\n",
       "      <th>2</th>\n",
       "      <td>3.0</td>\n",
       "      <td>400.353405</td>\n",
       "      <td>LINESTRING (221420.428 267804.889, 221411.402 ...</td>\n",
       "    </tr>\n",
       "    <tr>\n",
       "      <th>3</th>\n",
       "      <td>4.0</td>\n",
       "      <td>660.000000</td>\n",
       "      <td>LINESTRING (220875.116 268353.388, 220803.948 ...</td>\n",
       "    </tr>\n",
       "    <tr>\n",
       "      <th>4</th>\n",
       "      <td>5.0</td>\n",
       "      <td>660.000000</td>\n",
       "      <td>LINESTRING (220802.426 268398.824, 220917.000 ...</td>\n",
       "    </tr>\n",
       "  </tbody>\n",
       "</table>\n",
       "</div>"
      ],
      "text/plain": [
       "    ID      Length                                           geometry\n",
       "0  1.0  244.116229  LINESTRING (222007.131 267348.711, 222007.159 ...\n",
       "1  2.0  375.974828  LINESTRING (222006.951 267549.880, 222007.131 ...\n",
       "2  3.0  400.353405  LINESTRING (221420.428 267804.889, 221411.402 ...\n",
       "3  4.0  660.000000  LINESTRING (220875.116 268353.388, 220803.948 ...\n",
       "4  5.0  660.000000  LINESTRING (220802.426 268398.824, 220917.000 ..."
      ]
     },
     "execution_count": 1,
     "metadata": {},
     "output_type": "execute_result"
    }
   ],
   "source": [
    "from collections import OrderedDict\n",
    "import geopandas\n",
    "import libpysal\n",
    "from libpysal import cg, examples\n",
    "import matplotlib\n",
    "import matplotlib.pyplot as plt\n",
    "import matplotlib.lines as mlines\n",
    "import matplotlib.patches as mpatches\n",
    "from matplotlib.colors import ListedColormap\n",
    "# import matplotlib_scalebar\n",
    "# from matplotlib_scalebar.scalebar import ScaleBar\n",
    "import numpy\n",
    "# import ortools\n",
    "# from ortools.linear_solver import pywraplp\n",
    "# import seaborn\n",
    "import shapely\n",
    "from shapely.geometry import Point\n",
    "import spaghetti\n",
    "import sys\n",
    "\n",
    "# n clients and n facilities\n",
    "client_count, facility_count = 400, 14\n",
    "\n",
    "# candidate facilites to site\n",
    "p_facilities = 3\n",
    "\n",
    "# maximum coverage meters\n",
    "max_coverage = 1000.0\n",
    "\n",
    "# minimum coverage meters\n",
    "min_coverage = 800.0\n",
    "\n",
    "random_seeds = {\"client\": 3006, \"facility\": 1520}\n",
    "\n",
    "title = \"Neighborhood X\"\n",
    "\n",
    "streets = geopandas.read_file(examples.get_path(\"streets.shp\"))\n",
    "streets.crs = \"esri:102649\"\n",
    "streets = streets.to_crs(\"epsg:2762\")\n",
    "streets.head()"
   ]
  },
  {
   "cell_type": "code",
   "execution_count": 2,
   "metadata": {
    "pycharm": {
     "name": "#%%\n"
    }
   },
   "outputs": [
    {
     "data": {
      "text/html": [
       "<div>\n",
       "<style scoped>\n",
       "    .dataframe tbody tr th:only-of-type {\n",
       "        vertical-align: middle;\n",
       "    }\n",
       "\n",
       "    .dataframe tbody tr th {\n",
       "        vertical-align: top;\n",
       "    }\n",
       "\n",
       "    .dataframe thead th {\n",
       "        text-align: right;\n",
       "    }\n",
       "</style>\n",
       "<table border=\"1\" class=\"dataframe\">\n",
       "  <thead>\n",
       "    <tr style=\"text-align: right;\">\n",
       "      <th></th>\n",
       "      <th>geometry</th>\n",
       "    </tr>\n",
       "  </thead>\n",
       "  <tbody>\n",
       "    <tr>\n",
       "      <th>0</th>\n",
       "      <td>POLYGON ((221824.140 268653.724, 221824.140 26...</td>\n",
       "    </tr>\n",
       "  </tbody>\n",
       "</table>\n",
       "</div>"
      ],
      "text/plain": [
       "                                            geometry\n",
       "0  POLYGON ((221824.140 268653.724, 221824.140 26..."
      ]
     },
     "execution_count": 2,
     "metadata": {},
     "output_type": "execute_result"
    }
   ],
   "source": [
    "def get_buffer(in_data, buff=50):\n",
    "    \"\"\" geopandas.GeoDataFrame should be in a meters projection.\n",
    "    Parameters\n",
    "    ----------\n",
    "    in_data : geopandas.GeoDataFrame\n",
    "        GeoDataFrame of a shapefile representing a road network.\n",
    "    buff : int or float\n",
    "        Desired buffer distance. Default is 50 (meters).\n",
    "    Returns\n",
    "    -------\n",
    "    out_data : geopandas.GeoDataFrame\n",
    "        Single polygon of the unioned street buffers.\n",
    "    \"\"\"\n",
    "    b1 = in_data.buffer(buff)  # Buffer\n",
    "    ub = b1.unary_union  # Buffer Union\n",
    "    b2 = geopandas.GeoSeries(ub)\n",
    "    out_data = geopandas.GeoDataFrame(b2, crs=in_data.crs, columns=[\"geometry\"])\n",
    "    return out_data\n",
    "\n",
    "buff = 50\n",
    "streets_buffer = get_buffer(streets, buff=buff)\n",
    "streets_buffer"
   ]
  },
  {
   "cell_type": "code",
   "execution_count": 3,
   "metadata": {
    "pycharm": {
     "name": "#%%\n"
    }
   },
   "outputs": [],
   "source": [
    "def simulated_geo_points(in_data, needed=20, seed=0, to_file=None):\n",
    "    \"\"\"Generate synthetic spatial data points within an area.s\n",
    "    Parameters\n",
    "    ----------\n",
    "    in_data : geopandas.GeoDataFrame\n",
    "        A single polygon of the unioned street buffers.\n",
    "    needed : int\n",
    "        Number of points in the buffer. Default is 20.\n",
    "    seed : int\n",
    "        Seed for pseudo-random number generation. Default is 0.\n",
    "    to_file : str\n",
    "        File name for write out.\n",
    "    Returns\n",
    "    -------\n",
    "    sim_pts : geopandas.GeoDataFrame\n",
    "        Points within the buffer.\n",
    "    \"\"\"\n",
    "    geoms = in_data.geometry\n",
    "    area = tuple(in_data.total_bounds)\n",
    "    simulated_points_list = []\n",
    "    simulated_points_all = False\n",
    "    numpy.random.seed(seed)\n",
    "    while simulated_points_all == False:\n",
    "        x = numpy.random.uniform(area[0], area[2], 1)\n",
    "        y = numpy.random.uniform(area[1], area[3], 1)\n",
    "        point = Point(x, y)\n",
    "        if geoms.intersects(point)[0]:\n",
    "            simulated_points_list.append(point)\n",
    "        if len(simulated_points_list) == needed:\n",
    "            simulated_points_all = True\n",
    "    sim_pts = geopandas.GeoDataFrame(\n",
    "        simulated_points_list, columns=[\"geometry\"], crs=in_data.crs\n",
    "    )\n",
    "    if to_file:\n",
    "        sim_pts.to_file(to_file + \".shp\")\n",
    "    return sim_pts\n",
    "\n",
    "clients = simulated_geo_points(\n",
    "    streets_buffer, needed=client_count, seed=random_seeds[\"client\"]\n",
    ")\n",
    "facilities = simulated_geo_points(\n",
    "    streets_buffer, needed=facility_count, seed=random_seeds[\"facility\"]\n",
    ")"
   ]
  },
  {
   "cell_type": "code",
   "execution_count": 4,
   "metadata": {
    "pycharm": {
     "name": "#%%\n"
    }
   },
   "outputs": [],
   "source": [
    "clients[\"dv\"] = [\"x[%s]\" % c for c in range(client_count)]\n",
    "facilities[\"dv\"] = [\"y[%s]\" % c for c in range(facility_count)]\n"
   ]
  },
  {
   "cell_type": "code",
   "execution_count": 5,
   "metadata": {
    "pycharm": {
     "name": "#%%\n"
    }
   },
   "outputs": [
    {
     "data": {
      "text/html": [
       "<div>\n",
       "<style scoped>\n",
       "    .dataframe tbody tr th:only-of-type {\n",
       "        vertical-align: middle;\n",
       "    }\n",
       "\n",
       "    .dataframe tbody tr th {\n",
       "        vertical-align: top;\n",
       "    }\n",
       "\n",
       "    .dataframe thead th {\n",
       "        text-align: right;\n",
       "    }\n",
       "</style>\n",
       "<table border=\"1\" class=\"dataframe\">\n",
       "  <thead>\n",
       "    <tr style=\"text-align: right;\">\n",
       "      <th></th>\n",
       "      <th>geometry</th>\n",
       "      <th>dv</th>\n",
       "      <th>weights</th>\n",
       "    </tr>\n",
       "  </thead>\n",
       "  <tbody>\n",
       "    <tr>\n",
       "      <th>0</th>\n",
       "      <td>POINT (220621.917 267350.429)</td>\n",
       "      <td>x[0]</td>\n",
       "      <td>1</td>\n",
       "    </tr>\n",
       "    <tr>\n",
       "      <th>1</th>\n",
       "      <td>POINT (220803.166 268060.603)</td>\n",
       "      <td>x[1]</td>\n",
       "      <td>7</td>\n",
       "    </tr>\n",
       "    <tr>\n",
       "      <th>2</th>\n",
       "      <td>POINT (221870.782 268397.667)</td>\n",
       "      <td>x[2]</td>\n",
       "      <td>4</td>\n",
       "    </tr>\n",
       "    <tr>\n",
       "      <th>3</th>\n",
       "      <td>POINT (220715.998 267148.323)</td>\n",
       "      <td>x[3]</td>\n",
       "      <td>6</td>\n",
       "    </tr>\n",
       "    <tr>\n",
       "      <th>4</th>\n",
       "      <td>POINT (221330.455 267985.572)</td>\n",
       "      <td>x[4]</td>\n",
       "      <td>5</td>\n",
       "    </tr>\n",
       "  </tbody>\n",
       "</table>\n",
       "</div>"
      ],
      "text/plain": [
       "                        geometry    dv  weights\n",
       "0  POINT (220621.917 267350.429)  x[0]        1\n",
       "1  POINT (220803.166 268060.603)  x[1]        7\n",
       "2  POINT (221870.782 268397.667)  x[2]        4\n",
       "3  POINT (220715.998 267148.323)  x[3]        6\n",
       "4  POINT (221330.455 267985.572)  x[4]        5"
      ]
     },
     "execution_count": 5,
     "metadata": {},
     "output_type": "execute_result"
    }
   ],
   "source": [
    "numpy.random.seed(1991)\n",
    "clients[\"weights\"] = numpy.random.randint(1, 8, (client_count, 1))\n",
    "clients.head()"
   ]
  },
  {
   "cell_type": "code",
   "execution_count": 6,
   "metadata": {
    "pycharm": {
     "name": "#%%\n"
    }
   },
   "outputs": [],
   "source": [
    "ntw = spaghetti.Network(in_data=streets)"
   ]
  },
  {
   "cell_type": "code",
   "execution_count": 7,
   "metadata": {
    "pycharm": {
     "name": "#%%\n"
    }
   },
   "outputs": [],
   "source": [
    "ntw.snapobservations(clients, \"clients\", attribute=True)\n",
    "clients_snapped = spaghetti.element_as_gdf(\n",
    "    ntw, pp_name=\"clients\", snapped=True\n",
    ")\n",
    "ntw.snapobservations(facilities, \"facilities\", attribute=True)\n",
    "facilities_snapped = spaghetti.element_as_gdf(\n",
    "    ntw, pp_name=\"facilities\", snapped=True\n",
    ")"
   ]
  },
  {
   "cell_type": "code",
   "execution_count": 8,
   "metadata": {
    "pycharm": {
     "name": "#%%\n"
    }
   },
   "outputs": [],
   "source": [
    "cost_matrix = ntw.allneighbordistances(\n",
    "    sourcepattern=ntw.pointpatterns[\"clients\"],\n",
    "    destpattern=ntw.pointpatterns[\"facilities\"],\n",
    ")"
   ]
  },
  {
   "cell_type": "code",
   "execution_count": 11,
   "metadata": {
    "pycharm": {
     "name": "#%%\n"
    }
   },
   "outputs": [
    {
     "name": "stdout",
     "output_type": "stream",
     "text": [
      "1\n"
     ]
    }
   ],
   "source": [
    "from spopt.locate.coverage import LSCP\n",
    "import pulp\n",
    "lscp = LSCP.from_cost_matrix(cost_matrix, max_coverage)\n",
    "status = lscp.solve(pulp.CPLEX_CMD())\n",
    "print(status)"
   ]
  },
  {
   "cell_type": "code",
   "execution_count": 12,
   "metadata": {
    "pycharm": {
     "name": "#%%\n"
    }
   },
   "outputs": [
    {
     "name": "stdout",
     "output_type": "stream",
     "text": [
      "0\n",
      "{0: 0, 1: 400, 2: 183, 3: 26, 4: 3}\n"
     ]
    }
   ],
   "source": [
    "lscp.record_decisions()\n",
    "# print(lscp.cli2iloc)\n",
    "# print(lscp.cli2fac)\n",
    "# print(lscp.fac2cli)\n",
    "print(lscp.n_cli_uncov)\n",
    "print(lscp.ncov2ncli)"
   ]
  },
  {
   "cell_type": "code",
   "execution_count": 20,
   "metadata": {
    "pycharm": {
     "name": "#%%\n"
    }
   },
   "outputs": [
    {
     "name": "stdout",
     "output_type": "stream",
     "text": [
      "1\n"
     ]
    }
   ],
   "source": [
    "from spopt.locate.coverage import MCLP\n",
    "import pulp\n",
    "\n",
    "ai = clients['weights']\n",
    "ai = ai.values.reshape(cost_matrix.shape[0], 1)\n",
    "\n",
    "mclp = MCLP.from_cost_matrix(cost_matrix, ai, max_coverage, p_facilities)\n",
    "status = mclp.solve(pulp.GUROBI_CMD())\n",
    "print(status)\n",
    "# for v in model.variables():\n",
    "#     print(v.name, \"=\", v.varValue)"
   ]
  },
  {
   "cell_type": "code",
   "execution_count": 21,
   "metadata": {},
   "outputs": [
    {
     "name": "stdout",
     "output_type": "stream",
     "text": [
      "6\n",
      "{0: 6, 1: 394, 2: 99, 3: 17}\n"
     ]
    }
   ],
   "source": [
    "mclp.record_decisions()\n",
    "# print(mclp.fac2cli)\n",
    "# print(mclp.cli2iloc)\n",
    "# print(mclp.cli2fac)\n",
    "print(mclp.n_cli_uncov)\n",
    "print(mclp.ncov2ncli)"
   ]
  },
  {
   "cell_type": "code",
   "execution_count": 24,
   "metadata": {
    "pycharm": {
     "name": "#%%\n"
    }
   },
   "outputs": [
    {
     "name": "stdout",
     "output_type": "stream",
     "text": [
      "1\n"
     ]
    }
   ],
   "source": [
    "import pulp\n",
    "from spopt.locate.p_median import PMedian\n",
    "\n",
    "# binary coverage matrix from cij\n",
    "ai = clients['weights']\n",
    "ai = ai.values.reshape(cost_matrix.shape[0], 1)\n",
    "\n",
    "pmedian = PMedian.from_cost_matrix(cost_matrix, ai, p_facilities)\n",
    "status = pmedian.solve(pulp.CPLEX_CMD())\n",
    "print(status)"
   ]
  },
  {
   "cell_type": "code",
   "execution_count": 26,
   "metadata": {
    "pycharm": {
     "name": "#%%\n"
    }
   },
   "outputs": [
    {
     "name": "stdout",
     "output_type": "stream",
     "text": [
      "1\n"
     ]
    }
   ],
   "source": [
    "import pulp\n",
    "from spopt.locate.p_center import PCenter\n",
    "\n",
    "ai = clients['weights']\n",
    "ai = ai.values.reshape(cost_matrix.shape[0], 1)\n",
    "\n",
    "pcenter = PCenter.from_cost_matrix(cost_matrix, ai, p_facilities)\n",
    "status = pcenter.solve(pulp.GUROBI_CMD())\n",
    "print(status)"
   ]
  },
  {
   "cell_type": "code",
   "execution_count": null,
   "metadata": {
    "pycharm": {
     "name": "#%%\n"
    }
   },
   "outputs": [],
   "source": []
  }
 ],
 "metadata": {
  "kernelspec": {
   "display_name": "Python 3",
   "language": "python",
   "name": "python3"
  },
  "language_info": {
   "codemirror_mode": {
    "name": "ipython",
    "version": 3
   },
   "file_extension": ".py",
   "mimetype": "text/x-python",
   "name": "python",
   "nbconvert_exporter": "python",
   "pygments_lexer": "ipython3",
   "version": "3.9.4"
  }
 },
 "nbformat": 4,
 "nbformat_minor": 1
}